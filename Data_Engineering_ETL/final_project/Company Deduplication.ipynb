{
 "cells": [
  {
   "cell_type": "markdown",
   "metadata": {},
   "source": [
    "# Deduplication Files"
   ]
  },
  {
   "cell_type": "code",
   "execution_count": null,
   "metadata": {},
   "outputs": [],
   "source": [
    "import pandas as pd\n",
    "import numpy as np\n",
    "import re\n",
    "import pandas_dedupe"
   ]
  },
  {
   "cell_type": "code",
   "execution_count": null,
   "metadata": {},
   "outputs": [],
   "source": [
    "files_path = './dedupe_files/'"
   ]
  },
  {
   "cell_type": "markdown",
   "metadata": {},
   "source": [
    "## Connectivity"
   ]
  },
  {
   "cell_type": "code",
   "execution_count": null,
   "metadata": {},
   "outputs": [],
   "source": [
    "# Read Connectivity Merged\n",
    "connectivity = pd.read_csv(files_path+'Connectivity_Merged.tsv',sep='\\t')\n",
    "print(connectivity.shape)\n",
    "connectivity.head()"
   ]
  },
  {
   "cell_type": "code",
   "execution_count": null,
   "metadata": {},
   "outputs": [],
   "source": [
    "connectivity.EdgeLabel.value_counts()"
   ]
  },
  {
   "cell_type": "markdown",
   "metadata": {},
   "source": [
    "It would appear that there are a few duplicates here."
   ]
  },
  {
   "cell_type": "code",
   "execution_count": null,
   "metadata": {},
   "outputs": [],
   "source": [
    "# Let us work on de-duping the Edge Labels:\n",
    "clustered_connect = pandas_dedupe.dedupe_dataframe(connectivity,['EdgeLabel'])"
   ]
  },
  {
   "cell_type": "code",
   "execution_count": null,
   "metadata": {},
   "outputs": [],
   "source": [
    "print(clustered_connect.shape)\n",
    "clustered_connect.head()"
   ]
  },
  {
   "cell_type": "code",
   "execution_count": null,
   "metadata": {},
   "outputs": [],
   "source": [
    "clustered_connect.groupby('cluster id')['EdgeLabel'].apply(lambda x: list(np.unique(x)))"
   ]
  },
  {
   "cell_type": "code",
   "execution_count": null,
   "metadata": {},
   "outputs": [],
   "source": [
    "similar_connect = ['developed by','produces','created by','authored']\n",
    "clustered_connect[clustered_connect.EdgeLabel.isin(similar_connect)]"
   ]
  },
  {
   "cell_type": "code",
   "execution_count": null,
   "metadata": {},
   "outputs": [],
   "source": [
    "# After some analysis, it would appear produces and developed by are the same & created by and authored are the same.\n",
    "clustered_connect['cluster id'].replace({9: 8, 7: 4},inplace=True)\n",
    "# Now let's look at the labels:\n",
    "clustered_connect.groupby('cluster id')['EdgeLabel'].apply(lambda x: list(np.unique(x)))"
   ]
  },
  {
   "cell_type": "code",
   "execution_count": null,
   "metadata": {},
   "outputs": [],
   "source": [
    "# Let us use these clusters\n",
    "cl_conn_map = clustered_connect.groupby('cluster id')['EdgeLabel'].apply(lambda x: list(np.unique(x)))\n",
    "st_conn_dict = {k:cl_conn_map[k][0] for k in cl_conn_map.index}\n",
    "clustered_connect['std_EdgeLabel'] = clustered_connect['cluster id'].map(st_conn_dict)"
   ]
  },
  {
   "cell_type": "code",
   "execution_count": null,
   "metadata": {},
   "outputs": [],
   "source": [
    "clustered_connect.head()"
   ]
  },
  {
   "cell_type": "code",
   "execution_count": null,
   "metadata": {},
   "outputs": [],
   "source": [
    "export_connect = clustered_connect.drop(['cluster id','confidence','EdgeLabel'],axis=1)\n",
    "export_connect.columns = connectivity.columns\n",
    "export_connect.to_csv(files_path+'dd_Connectivity_Merged.tsv',sep=\"\\t\",index=False)"
   ]
  },
  {
   "cell_type": "markdown",
   "metadata": {},
   "source": [
    "## Edge Property:"
   ]
  },
  {
   "cell_type": "code",
   "execution_count": null,
   "metadata": {},
   "outputs": [],
   "source": [
    "# Read Edge Property Merged\n",
    "edge_property = pd.read_csv(files_path+'EdgeProperty_Merged.tsv',sep='\\t')\n",
    "print(edge_property.shape)\n",
    "edge_property.head()"
   ]
  },
  {
   "cell_type": "code",
   "execution_count": null,
   "metadata": {},
   "outputs": [],
   "source": [
    "edge_property.dropna(inplace=True)\n",
    "print(edge_property.shape)\n",
    "edge_property.head()"
   ]
  },
  {
   "cell_type": "code",
   "execution_count": null,
   "metadata": {},
   "outputs": [],
   "source": [
    "edge_property.Property.value_counts()"
   ]
  },
  {
   "cell_type": "code",
   "execution_count": null,
   "metadata": {},
   "outputs": [],
   "source": [
    "# Preview the data\n",
    "edge_property[edge_property.Property.isin(['Licensed','ownership'])]"
   ]
  },
  {
   "cell_type": "code",
   "execution_count": null,
   "metadata": {},
   "outputs": [],
   "source": [
    "edge_dict = {}\n",
    "for i,val in enumerate(edge_property.Property.unique()):\n",
    "    edge_dict[val] = i"
   ]
  },
  {
   "cell_type": "code",
   "execution_count": null,
   "metadata": {},
   "outputs": [],
   "source": [
    "edge_dict"
   ]
  },
  {
   "cell_type": "code",
   "execution_count": null,
   "metadata": {},
   "outputs": [],
   "source": [
    "edge_dict.update({'Date ': 0, 'Value ': 1,'ownership':6,'Date11':0})"
   ]
  },
  {
   "cell_type": "code",
   "execution_count": null,
   "metadata": {},
   "outputs": [],
   "source": [
    "edge_property['cluster id'] = edge_property['Property'].map(edge_dict)"
   ]
  },
  {
   "cell_type": "code",
   "execution_count": null,
   "metadata": {},
   "outputs": [],
   "source": [
    "# Let us use these clusters\n",
    "cl_edgeprop_map = edge_property.groupby('cluster id')['Property'].apply(lambda x: list(np.unique(x)))\n",
    "st_ep_dict = {k:cl_edgeprop_map[k][0] for k in cl_edgeprop_map.index}\n",
    "edge_property['std_Property'] = edge_property['cluster id'].map(st_ep_dict)"
   ]
  },
  {
   "cell_type": "code",
   "execution_count": null,
   "metadata": {},
   "outputs": [],
   "source": [
    "edge_export = edge_property[['EdgeID', 'std_Property', 'Value']].copy()\n",
    "edge_export.columns = ['EdgeID','Property','Value']\n",
    "edge_export.to_csv(files_path+'dd_EdgeProperty_Merged.tsv',sep=\"\\t\",index=False)"
   ]
  },
  {
   "cell_type": "markdown",
   "metadata": {},
   "source": [
    "## Node Labels"
   ]
  },
  {
   "cell_type": "code",
   "execution_count": null,
   "metadata": {},
   "outputs": [],
   "source": [
    "# Read Node Labels\n",
    "node_lbls = pd.read_csv(files_path+'NodeLabels.tsv',sep='\\t')\n",
    "print(node_lbls.shape)\n",
    "node_lbls.head()"
   ]
  },
  {
   "cell_type": "code",
   "execution_count": null,
   "metadata": {},
   "outputs": [],
   "source": [
    "node_lbls.label.value_counts()"
   ]
  },
  {
   "cell_type": "code",
   "execution_count": null,
   "metadata": {},
   "outputs": [],
   "source": [
    "# Node Labels look clean enough, check for duplicates\n",
    "node_lbls_dd = node_lbls.drop_duplicates(subset=None, keep='first', inplace=False)\n",
    "print(node_lbls.shape)"
   ]
  },
  {
   "cell_type": "markdown",
   "metadata": {},
   "source": [
    "No adjustments needed."
   ]
  },
  {
   "cell_type": "markdown",
   "metadata": {},
   "source": [
    "## Node Property"
   ]
  },
  {
   "cell_type": "code",
   "execution_count": null,
   "metadata": {},
   "outputs": [],
   "source": [
    "# Read Node Labels\n",
    "node_prop = pd.read_csv(files_path+'NodeProperty.tsv',sep='\\t')\n",
    "print(node_prop.shape)\n",
    "node_prop.head()"
   ]
  },
  {
   "cell_type": "code",
   "execution_count": null,
   "metadata": {},
   "outputs": [],
   "source": [
    "node_prop.Property.value_counts()"
   ]
  },
  {
   "cell_type": "code",
   "execution_count": null,
   "metadata": {},
   "outputs": [],
   "source": [
    "clustered_node_prop = pandas_dedupe.dedupe_dataframe(node_prop,['Property'])"
   ]
  },
  {
   "cell_type": "code",
   "execution_count": null,
   "metadata": {},
   "outputs": [],
   "source": [
    "print(clustered_node_prop.shape)\n",
    "clustered_node_prop.head()"
   ]
  },
  {
   "cell_type": "code",
   "execution_count": null,
   "metadata": {},
   "outputs": [],
   "source": [
    "clustered_node_prop.groupby('cluster id')['Property'].apply(lambda x: list(np.unique(x)))"
   ]
  },
  {
   "cell_type": "code",
   "execution_count": null,
   "metadata": {},
   "outputs": [],
   "source": [
    "# Preview the data\n",
    "clustered_node_prop[clustered_node_prop.Property.isin(['initial release','release date','launched'])]"
   ]
  },
  {
   "cell_type": "code",
   "execution_count": null,
   "metadata": {},
   "outputs": [],
   "source": [
    "clustered_node_prop['cluster id'].replace({22: 6, 12: 4, 9: 18, 23:6, 0:15},inplace=True)"
   ]
  },
  {
   "cell_type": "code",
   "execution_count": null,
   "metadata": {},
   "outputs": [],
   "source": [
    "clustered_node_prop.groupby('cluster id')['Property'].apply(lambda x: list(np.unique(x)))"
   ]
  },
  {
   "cell_type": "code",
   "execution_count": null,
   "metadata": {},
   "outputs": [],
   "source": [
    "# Let us use these clusters\n",
    "cl_np_map = clustered_node_prop.groupby('cluster id')['Property'].apply(lambda x: list(np.unique(x)))\n",
    "st_np_dict = {k:cl_np_map[k][0] for k in cl_np_map.index}\n",
    "clustered_node_prop['std_Property'] = clustered_node_prop['cluster id'].map(st_np_dict)"
   ]
  },
  {
   "cell_type": "code",
   "execution_count": null,
   "metadata": {},
   "outputs": [],
   "source": [
    "clustered_node_prop.head()"
   ]
  },
  {
   "cell_type": "code",
   "execution_count": null,
   "metadata": {},
   "outputs": [],
   "source": [
    "clustered_node_prop.std_Property.value_counts()"
   ]
  },
  {
   "cell_type": "code",
   "execution_count": null,
   "metadata": {},
   "outputs": [],
   "source": [
    "# Like launched better than initial released, purely preference:\n",
    "clustered_node_prop.std_Property.replace('initial release', 'launched',inplace=True)"
   ]
  },
  {
   "cell_type": "code",
   "execution_count": null,
   "metadata": {},
   "outputs": [],
   "source": [
    "npop_export = clustered_node_prop[['NodeID', 'std_Property', 'Value']].copy()\n",
    "npop_export.columns = ['NodeID','Property','Value']\n",
    "npop_export.to_csv(files_path+'dd_NodeProperty.tsv',sep=\"\\t\",index=False)"
   ]
  }
 ],
 "metadata": {
  "kernelspec": {
   "display_name": "Python 3",
   "language": "python",
   "name": "python3"
  },
  "language_info": {
   "codemirror_mode": {
    "name": "ipython",
    "version": 3
   },
   "file_extension": ".py",
   "mimetype": "text/x-python",
   "name": "python",
   "nbconvert_exporter": "python",
   "pygments_lexer": "ipython3",
   "version": "3.6.10"
  }
 },
 "nbformat": 4,
 "nbformat_minor": 2
}
