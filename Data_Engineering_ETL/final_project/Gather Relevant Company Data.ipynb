{
 "cells": [
  {
   "cell_type": "code",
   "execution_count": null,
   "metadata": {},
   "outputs": [],
   "source": [
    "import time\n",
    "import csv\n",
    "from selenium import webdriver\n",
    "from selenium.webdriver.common.keys import Keys\n",
    "import re\n",
    "from bs4 import BeautifulSoup\n",
    "import requests\n",
    "import html2text"
   ]
  },
  {
   "cell_type": "code",
   "execution_count": null,
   "metadata": {
    "collapsed": true
   },
   "outputs": [],
   "source": [
    "sel_url = \"https://siccode.com/business/\"\n",
    "wiki_url = \"https://en.wikipedia.org/wiki/\"\n",
    "\n",
    "company_list = [\"LinkedIn\",\"Lynda.com\",\"ZipRecruiter Inc\",\"Indeed.com\",\"SlideShare\",\"Glassdoor\",\"Connectifier\"]\n",
    "\n",
    "company_dict = {}"
   ]
  },
  {
   "cell_type": "code",
   "execution_count": null,
   "metadata": {
    "collapsed": true
   },
   "outputs": [],
   "source": [
    "# Selennium Portion\n",
    "driver = webdriver.Chrome('/Users/kkannapp/Downloads/chromedriver')\n",
    "\n",
    "for company in company_list:\n",
    "    company_dict[company] = {}\n",
    "    driver.get(sel_url+re.sub(r'\\s+|\\.', '-',company))\n",
    "    try:\n",
    "        companyCode = driver.find_element_by_xpath(\"/html/body/div[1]/div/section[2]/div/div/div[2]/div[2]/div/div/a[2]\").text\n",
    "        naics_code = re.findall(r'\\d+', companyCode)\n",
    "        company_dict[company]['naics'] = naics_code[0]\n",
    "    except:\n",
    "        company_dict[company]['naics'] = None\n",
    "    time.sleep(2)"
   ]
  },
  {
   "cell_type": "code",
   "execution_count": null,
   "metadata": {
    "collapsed": true
   },
   "outputs": [],
   "source": [
    "# LinkedIn Portion\n",
    "driver = webdriver.Chrome('/Users/kkannapp/Downloads/chromedriver')\n",
    "linkedin_url = \"https://www.linkedin.com/company/\"\n",
    "\n",
    "driver.get(\"https://www.linkedin.com\")\n",
    "driver.implicitly_wait(6)\n",
    "driver.find_element_by_xpath(\"/html/body/nav/section[2]/form/div[1]/div[1]/input\").send_keys(userid)\n",
    "driver.find_element_by_xpath(\"/html/body/nav/section[2]/form/div[1]/div[2]/input\").send_keys(password)\n",
    "driver.find_element_by_xpath(\"/html/body/nav/section[2]/form/div[2]/button\").click()\n",
    "\n",
    "for company in company_list:\n",
    "    driver.get(linkedin_url+re.split(r'\\s+',re.sub(r'\\.', '-',company))[0])\n",
    "    try:\n",
    "        companyCode = driver.find_element_by_xpath(\"/html/body/div[5]/div[4]/div[3]/div/div[2]/section/div/div/div[2]/div[2]/div/div[2]/a/span\").text\n",
    "        hc_number = re.findall(r'\\d+',companyCode.replace(',', ''))\n",
    "        company_dict[company]['headcount'] = hc_number\n",
    "    except:\n",
    "        company_dict[company]['headcount'] = None\n",
    "    time.sleep(2)"
   ]
  },
  {
   "cell_type": "code",
   "execution_count": null,
   "metadata": {
    "collapsed": true
   },
   "outputs": [],
   "source": [
    "# Wikipedia Portion\n",
    "h = html2text.HTML2Text()\n",
    "h.ignore_links = True\n",
    "\n",
    "for company in company_list:\n",
    "    url = requests.get(wiki_url+(re.split(r'\\s+',company)[0])).text\n",
    "    soup = BeautifulSoup(url,'lxml')\n",
    "    table = soup.find('table',{'class':'infobox vcard'})\n",
    "    exceptional_row_count = 0\n",
    "    for tr in table.find_all('tr'):\n",
    "        if tr.find('th'):\n",
    "            company_dict[company][h.handle(tr.find('th').text).strip().replace('\\n','')] = h.handle(tr.find('td').text).strip().replace('\\n',' ')\n",
    "        else:\n",
    "            # the first row Logos fall here\n",
    "            exceptional_row_count += 1\n",
    "    paragraph = soup.find(\"div\",{'class':'mw-content-ltr'})\n",
    "    pgtxt = paragraph.find_all('p')[1:3]\n",
    "    for i in range(len(pgtxt)):\n",
    "        company_dict[company]['pg_'+str(i)] = h.handle(str(pgtxt[i])).strip().replace('\\n',' ')"
   ]
  },
  {
   "cell_type": "code",
   "execution_count": null,
   "metadata": {
    "collapsed": true
   },
   "outputs": [],
   "source": [
    "company_dict"
   ]
  },
  {
   "cell_type": "code",
   "execution_count": null,
   "metadata": {
    "collapsed": true
   },
   "outputs": [],
   "source": [
    "import json\n",
    "with open('result_kk.json', 'w') as fp:\n",
    "    json.dump(company_dict, fp)"
   ]
  },
  {
   "cell_type": "code",
   "execution_count": null,
   "metadata": {},
   "outputs": [],
   "source": [
    "import json\n",
    "import pandas as pd\n",
    "import numpy as np\n",
    "with open('result_kk.json', 'r') as f:\n",
    "    docs = json.loads(f.read())"
   ]
  },
  {
   "cell_type": "code",
   "execution_count": null,
   "metadata": {},
   "outputs": [],
   "source": [
    "key_list = []\n",
    "for key in docs:\n",
    "    k = list(docs.get(key).keys())\n",
    "    key_list.append(k)"
   ]
  },
  {
   "cell_type": "code",
   "execution_count": null,
   "metadata": {},
   "outputs": [],
   "source": [
    "flat_list = [item for sublist in key_list for item in sublist]\n",
    "from collections import Counter\n",
    "count_keys = Counter(flat_list)"
   ]
  },
  {
   "cell_type": "code",
   "execution_count": null,
   "metadata": {},
   "outputs": [],
   "source": [
    "sorted(count_keys.items(), key=lambda pair: pair[1], reverse=True)"
   ]
  },
  {
   "cell_type": "code",
   "execution_count": null,
   "metadata": {},
   "outputs": [],
   "source": [
    "df = pd.DataFrame.from_dict(docs,orient='index')\n",
    "df.reset_index(level=0,inplace=True)\n",
    "#pd.wide_to_long(df, i=\"index\")"
   ]
  },
  {
   "cell_type": "code",
   "execution_count": null,
   "metadata": {},
   "outputs": [],
   "source": [
    "#df.columns[1:]\n",
    "df_lng = pd.melt(df, id_vars='index',value_vars = df.columns[1:])\n",
    "df_lng.columns = ['company','attribute','value']\n",
    "df_lng.tail(30)"
   ]
  },
  {
   "cell_type": "code",
   "execution_count": null,
   "metadata": {},
   "outputs": [],
   "source": [
    "import pandas_dedupe\n",
    "clustered_df = pandas_dedupe.dedupe_dataframe(df_lng,['attribute'])"
   ]
  },
  {
   "cell_type": "code",
   "execution_count": null,
   "metadata": {},
   "outputs": [],
   "source": [
    "clustered_df = pd.read_csv('./dedupe_files/attribute_dedupe.csv')\n",
    "clustered_df.groupby('cluster id')['attribute'].apply(lambda x: list(np.unique(x)))"
   ]
  },
  {
   "cell_type": "markdown",
   "metadata": {},
   "source": [
    "Results are ok, some distance between the words are large - so manually correct a few (oracle job): notably\n",
    "\n",
    "32 - 8, 21 - 5"
   ]
  },
  {
   "cell_type": "code",
   "execution_count": null,
   "metadata": {},
   "outputs": [],
   "source": [
    "clustered_df['cluster id'].replace({32: 8, 21: 5},inplace=True)"
   ]
  },
  {
   "cell_type": "code",
   "execution_count": null,
   "metadata": {},
   "outputs": [],
   "source": [
    "clustered_df.groupby('cluster id')['attribute'].apply(lambda x: list(np.unique(x)))"
   ]
  },
  {
   "cell_type": "code",
   "execution_count": null,
   "metadata": {},
   "outputs": [],
   "source": [
    "clustered_df.tail(10)"
   ]
  },
  {
   "cell_type": "code",
   "execution_count": null,
   "metadata": {},
   "outputs": [],
   "source": [
    "# Percent missingness\n",
    "missing_df = clustered_df.groupby('cluster id')['value'].agg({'null_cnt': lambda x: x.isnull().sum()}).join(clustered_df.groupby('cluster id')['value'].size()).reset_index()"
   ]
  },
  {
   "cell_type": "code",
   "execution_count": null,
   "metadata": {},
   "outputs": [],
   "source": [
    "# Remove clusters where missingness is above 70%:\n",
    "missing_df['perc_miss'] = missing_df['null_cnt']/missing_df['value']\n",
    "remove_list = missing_df[missing_df.perc_miss >=0.7]['cluster id'].to_list()"
   ]
  },
  {
   "cell_type": "code",
   "execution_count": null,
   "metadata": {},
   "outputs": [],
   "source": [
    "filtered_df = clustered_df[~clustered_df['cluster id'].isin(remove_list)]"
   ]
  },
  {
   "cell_type": "code",
   "execution_count": null,
   "metadata": {},
   "outputs": [],
   "source": [
    "final_df = filtered_df[~((filtered_df[['company', 'cluster id']].duplicated(keep=False)) & (filtered_df.isnull().any(axis=1)))].reset_index()"
   ]
  },
  {
   "cell_type": "code",
   "execution_count": null,
   "metadata": {},
   "outputs": [],
   "source": [
    "final_df.head()\n",
    "final_df.drop(['confidence','index'],axis=1,inplace=True)\n",
    "final_df.columns = ['company','attribute','value','cluster_id']"
   ]
  },
  {
   "cell_type": "code",
   "execution_count": null,
   "metadata": {},
   "outputs": [],
   "source": [
    "final_df.head()"
   ]
  },
  {
   "cell_type": "code",
   "execution_count": null,
   "metadata": {},
   "outputs": [],
   "source": [
    "cl_map = final_df.groupby('cluster_id')['attribute'].apply(lambda x: list(np.unique(x)))\n",
    "st_dict = {k:cl_map[k][0] for k in cl_map.index}"
   ]
  },
  {
   "cell_type": "code",
   "execution_count": null,
   "metadata": {},
   "outputs": [],
   "source": [
    "final_df['std_attribute'] = final_df['cluster_id'].map(st_dict)"
   ]
  },
  {
   "cell_type": "code",
   "execution_count": null,
   "metadata": {},
   "outputs": [],
   "source": [
    "final_df.head()"
   ]
  },
  {
   "cell_type": "code",
   "execution_count": null,
   "metadata": {
    "collapsed": true
   },
   "outputs": [],
   "source": [
    "final_df.to_csv('./clean_data.csv', columns=['company','std_attribute','value'], index=False)"
   ]
  }
 ],
 "metadata": {
  "kernelspec": {
   "display_name": "Python 3",
   "language": "python",
   "name": "python3"
  },
  "language_info": {
   "codemirror_mode": {
    "name": "ipython",
    "version": 3
   },
   "file_extension": ".py",
   "mimetype": "text/x-python",
   "name": "python",
   "nbconvert_exporter": "python",
   "pygments_lexer": "ipython3",
   "version": "3.6.9"
  }
 },
 "nbformat": 4,
 "nbformat_minor": 2
}
