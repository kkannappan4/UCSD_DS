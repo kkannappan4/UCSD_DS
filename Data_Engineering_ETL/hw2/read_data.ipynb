{
 "cells": [
  {
   "cell_type": "code",
   "execution_count": null,
   "metadata": {
    "collapsed": true
   },
   "outputs": [],
   "source": [
    "import csv\n",
    "import psycopg2\n",
    "from dateutil import parser\n",
    "from datetime import datetime"
   ]
  },
  {
   "cell_type": "code",
   "execution_count": null,
   "metadata": {
    "collapsed": true
   },
   "outputs": [],
   "source": [
    "conn = None\n",
    "\n",
    "DATABASE = 'whitehouse'\n",
    "USER = 'postgres'\n",
    "HOST = 'localhost'\n",
    "PASSWORD = '123456'\n"
   ]
  },
  {
   "cell_type": "code",
   "execution_count": null,
   "metadata": {},
   "outputs": [],
   "source": [
    "try:\n",
    "    conn = psycopg2.connect(database=DATABASE, user=USER, host=HOST, password=PASSWORD)\n",
    "    print (\"I've connected\")\n",
    "except Exception as e:\n",
    "    print (e)\n",
    "cur = conn.cursor()\n"
   ]
  },
  {
   "cell_type": "code",
   "execution_count": null,
   "metadata": {
    "collapsed": true
   },
   "outputs": [],
   "source": [
    "def dateParseSQL(nfile):\n",
    "    cur.execute('''CREATE TABLE IF NOT EXISTS visitors\n",
    "        (visitor_id SERIAL PRIMARY KEY,\n",
    "        lastname    varchar,\n",
    "        firstname   varchar,\n",
    "        uin         varchar,\n",
    "        apptmade    varchar,\n",
    "        apptstart   varchar,\n",
    "        apptend     varchar,\n",
    "        meeting_loc varchar);''')\n",
    "    conn.commit()\n",
    "    with open(nfile, 'rU') as infile:\n",
    "        reader = csv.reader(infile, delimiter=',')\n",
    "        next(reader, None)\n",
    "        DATEFIELDS = [0, 1, 3, 10, 11, 12, 21]\n",
    "        for row in reader:\n",
    "            for field in DATEFIELDS:\n",
    "                if row[field] != '':\n",
    "                    try:\n",
    "                        dt = parser.parse(row[field])\n",
    "                        row[field] = dt.toordinal()  # We also tried dt.isoformat()\n",
    "                    except:\n",
    "                        continue\n",
    "            sql = \"INSERT INTO visitors(lastname,firstname,uin,apptmade,apptstart,apptend,meeting_loc) \\\n",
    "            VALUES (%s,%s,%s,%s,%s,%s,%s)\"\n",
    "            cur.execute(sql, (row[0],row[1],row[3],row[10],row[11],row[12],row[21],))\n",
    "            conn.commit()\n",
    "    print (\"All done!\")"
   ]
  },
  {
   "cell_type": "code",
   "execution_count": null,
   "metadata": {},
   "outputs": [],
   "source": [
    "dateParseSQL('WhiteHouse100.csv')"
   ]
  },
  {
   "cell_type": "code",
   "execution_count": null,
   "metadata": {
    "collapsed": true
   },
   "outputs": [],
   "source": []
  }
 ],
 "metadata": {
  "kernelspec": {
   "display_name": "Python 3",
   "language": "python",
   "name": "python3"
  },
  "language_info": {
   "codemirror_mode": {
    "name": "ipython",
    "version": 3
   },
   "file_extension": ".py",
   "mimetype": "text/x-python",
   "name": "python",
   "nbconvert_exporter": "python",
   "pygments_lexer": "ipython3",
   "version": "3.6.8"
  }
 },
 "nbformat": 4,
 "nbformat_minor": 2
}
