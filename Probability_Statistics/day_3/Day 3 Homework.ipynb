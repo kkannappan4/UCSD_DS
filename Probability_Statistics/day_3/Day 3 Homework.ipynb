{
 "cells": [
  {
   "cell_type": "markdown",
   "metadata": {},
   "source": [
    "## Worksheet 6"
   ]
  },
  {
   "cell_type": "markdown",
   "metadata": {},
   "source": [
    "Problem 4:\n",
    "\n",
    "<img src=\"./problem_4_ws_6.JPG\" alt=\"Drawing\" style=\"width: 400px;\"/>"
   ]
  },
  {
   "cell_type": "markdown",
   "metadata": {},
   "source": [
    "Problem 5:"
   ]
  },
  {
   "cell_type": "code",
   "execution_count": 2,
   "metadata": {
    "collapsed": true
   },
   "outputs": [],
   "source": [
    "import numpy as np\n",
    "import matplotlib.pyplot as plt\n",
    "from scipy.stats import multivariate_normal"
   ]
  },
  {
   "cell_type": "code",
   "execution_count": 3,
   "metadata": {},
   "outputs": [
    {
     "data": {
      "text/plain": [
       "<matplotlib.contour.QuadContourSet at 0x119f911d0>"
      ]
     },
     "execution_count": 3,
     "metadata": {},
     "output_type": "execute_result"
    },
    {
     "data": {
      "image/png": "[encoded data removed]",
      "text/plain": [
       "<matplotlib.figure.Figure at 0x116c23860>"
      ]
     },
     "metadata": {},
     "output_type": "display_data"
    }
   ],
   "source": [
    "# Problem a)\n",
    "%matplotlib inline\n",
    "\n",
    "x, y = np.mgrid[-5:5:.25, -5:6:.25]\n",
    "pos = np.empty(x.shape + (2,))\n",
    "pos[:, :, 0] = x; pos[:, :, 1] = y\n",
    "rv = multivariate_normal([0, 0], [[9.0, 0.0], [0.0, 1.0]])\n",
    "plt.contourf(x, y, rv.pdf(pos))"
   ]
  },
  {
   "cell_type": "code",
   "execution_count": 4,
   "metadata": {},
   "outputs": [
    {
     "data": {
      "text/plain": [
       "<matplotlib.contour.QuadContourSet at 0x11a0010f0>"
      ]
     },
     "execution_count": 4,
     "metadata": {},
     "output_type": "execute_result"
    },
    {
     "data": {
      "image/png": "[encoded data removed]",
      "text/plain": [
       "<matplotlib.figure.Figure at 0x116c23668>"
      ]
     },
     "metadata": {},
     "output_type": "display_data"
    }
   ],
   "source": [
    "# Problem b)\n",
    "x, y = np.mgrid[-5:5:.25, -5:6:.25]\n",
    "pos = np.empty(x.shape + (2,))\n",
    "pos[:, :, 0] = x; pos[:, :, 1] = y\n",
    "rv = multivariate_normal([0, 0], [[1.0, -0.75], [-0.75, 1.0]])\n",
    "plt.contourf(x, y, rv.pdf(pos))"
   ]
  },
  {
   "cell_type": "markdown",
   "metadata": {},
   "source": [
    "## Worksheet 8"
   ]
  },
  {
   "cell_type": "markdown",
   "metadata": {},
   "source": [
    "Problem 4:"
   ]
  },
  {
   "cell_type": "code",
   "execution_count": 5,
   "metadata": {
    "collapsed": true
   },
   "outputs": [],
   "source": [
    "# Imported Code from Professor:\n",
    "from struct import unpack\n",
    "import numpy as np\n",
    "import matplotlib.pylab as plt \n",
    "\n",
    "def loadmnist(imagefile, labelfile):\n",
    "\n",
    "    # Open the images with gzip in read binary mode\n",
    "    images = open(imagefile, 'rb')\n",
    "    labels = open(labelfile, 'rb')\n",
    "\n",
    "    # Get metadata for images\n",
    "    images.read(4)  # skip the magic_number\n",
    "    number_of_images = images.read(4)\n",
    "    number_of_images = unpack('>I', number_of_images)[0]\n",
    "    rows = images.read(4)\n",
    "    rows = unpack('>I', rows)[0]\n",
    "    cols = images.read(4)\n",
    "    cols = unpack('>I', cols)[0]\n",
    "\n",
    "    # Get metadata for labels\n",
    "    labels.read(4)\n",
    "    N = labels.read(4)\n",
    "    N = unpack('>I', N)[0]\n",
    "\n",
    "    # Get data\n",
    "    x = np.zeros((N, rows*cols), dtype=np.uint8)  # Initialize numpy array\n",
    "    y = np.zeros(N, dtype=np.uint8)  # Initialize numpy array\n",
    "    for i in range(N):\n",
    "        for j in range(rows*cols):\n",
    "            tmp_pixel = images.read(1)  # Just a single byte\n",
    "            tmp_pixel = unpack('>B', tmp_pixel)[0]\n",
    "            x[i][j] = tmp_pixel\n",
    "        tmp_label = labels.read(1)\n",
    "        y[i] = unpack('>B', tmp_label)[0]\n",
    "\n",
    "    images.close()\n",
    "    labels.close()\n",
    "    return (x, y)\n",
    "\n",
    "def displaychar(image):\n",
    "    plt.imshow(np.reshape(image, (28,28)), cmap=plt.cm.gray)\n",
    "    plt.axis('off')\n",
    "    plt.show()"
   ]
  },
  {
   "cell_type": "code",
   "execution_count": 12,
   "metadata": {
    "collapsed": true
   },
   "outputs": [],
   "source": [
    "# Problem a)\n",
    "# Train\n",
    "train_images = \"/Users/kkannapp/Documents/DSE/DSE210-homework/day_3/train-images-idx3-ubyte\"\n",
    "train_labels = \"/Users/kkannapp/Documents/DSE/DSE210-homework/day_3/train-labels-idx1-ubyte\"\n",
    "# Test\n",
    "test_images = \"/Users/kkannapp/Documents/DSE/DSE210-homework/day_3/t10k-images-idx3-ubyte\"\n",
    "test_labels = \"/Users/kkannapp/Documents/DSE/DSE210-homework/day_3/t10k-labels-idx1-ubyte\"\n",
    "\n",
    "x,y = loadmnist(train_images,train_labels)\n",
    "test_x,test_y = loadmnist(test_images,test_labels)"
   ]
  },
  {
   "cell_type": "code",
   "execution_count": 18,
   "metadata": {},
   "outputs": [
    {
     "name": "stdout",
     "output_type": "stream",
     "text": [
      "[  0   0   0   0   0   0   0   0   0   0   0   0   0   0   0   0   0   0\n",
      "   0   0   0   0   0   0   0   0   0   0   0   0   0   0   0   0   0   0\n",
      "   0   0   0   0   0   0   0   0   0   0   0   0   0   0   0   0   0   0\n",
      "   0   0   0   0   0   0   0   0   0   0   0   0   0   0   0   0   0   0\n",
      "   0   0   0   0   0   0   0   0   0   0   0   0   0   0   0   0   0   0\n",
      "   0   0   0   0   0   0   0   0   0   0   0   0   0   0   0   0   0   0\n",
      "   0   0   0   0   0   0   0   0   0   0   0   0   0   0   0   0   0   0\n",
      "   0   0   0   0   0   0   0   0   0   0   0   0   0   0   0   0   0   0\n",
      "   0   0   0   0   0   0   0   0   3  18  18  18 126 136 175  26 166 255\n",
      " 247 127   0   0   0   0   0   0   0   0   0   0   0   0  30  36  94 154\n",
      " 170 253 253 253 253 253 225 172 253 242 195  64   0   0   0   0   0   0\n",
      "   0   0   0   0   0  49 238 253 253 253 253 253 253 253 253 251  93  82\n",
      "  82  56  39   0   0   0   0   0   0   0   0   0   0   0   0  18 219 253\n",
      " 253 253 253 253 198 182 247 241   0   0   0   0   0   0   0   0   0   0\n",
      "   0   0   0   0   0   0   0   0  80 156 107 253 253 205  11   0  43 154\n",
      "   0   0   0   0   0   0   0   0   0   0   0   0   0   0   0   0   0   0\n",
      "   0  14   1 154 253  90   0   0   0   0   0   0   0   0   0   0   0   0\n",
      "   0   0   0   0   0   0   0   0   0   0   0   0   0 139 253 190   2   0\n",
      "   0   0   0   0   0   0   0   0   0   0   0   0   0   0   0   0   0   0\n",
      "   0   0   0   0   0  11 190 253  70   0   0   0   0   0   0   0   0   0\n",
      "   0   0   0   0   0   0   0   0   0   0   0   0   0   0   0   0  35 241\n",
      " 225 160 108   1   0   0   0   0   0   0   0   0   0   0   0   0   0   0\n",
      "   0   0   0   0   0   0   0   0   0  81 240 253 253 119  25   0   0   0\n",
      "   0   0   0   0   0   0   0   0   0   0   0   0   0   0   0   0   0   0\n",
      "   0   0  45 186 253 253 150  27   0   0   0   0   0   0   0   0   0   0\n",
      "   0   0   0   0   0   0   0   0   0   0   0   0   0  16  93 252 253 187\n",
      "   0   0   0   0   0   0   0   0   0   0   0   0   0   0   0   0   0   0\n",
      "   0   0   0   0   0   0   0 249 253 249  64   0   0   0   0   0   0   0\n",
      "   0   0   0   0   0   0   0   0   0   0   0   0   0   0  46 130 183 253\n",
      " 253 207   2   0   0   0   0   0   0   0   0   0   0   0   0   0   0   0\n",
      "   0   0   0   0  39 148 229 253 253 253 250 182   0   0   0   0   0   0\n",
      "   0   0   0   0   0   0   0   0   0   0   0   0  24 114 221 253 253 253\n",
      " 253 201  78   0   0   0   0   0   0   0   0   0   0   0   0   0   0   0\n",
      "   0   0  23  66 213 253 253 253 253 198  81   2   0   0   0   0   0   0\n",
      "   0   0   0   0   0   0   0   0   0   0  18 171 219 253 253 253 253 195\n",
      "  80   9   0   0   0   0   0   0   0   0   0   0   0   0   0   0   0   0\n",
      "  55 172 226 253 253 253 253 244 133  11   0   0   0   0   0   0   0   0\n",
      "   0   0   0   0   0   0   0   0   0   0 136 253 253 253 212 135 132  16\n",
      "   0   0   0   0   0   0   0   0   0   0   0   0   0   0   0   0   0   0\n",
      "   0   0   0   0   0   0   0   0   0   0   0   0   0   0   0   0   0   0\n",
      "   0   0   0   0   0   0   0   0   0   0   0   0   0   0   0   0   0   0\n",
      "   0   0   0   0   0   0   0   0   0   0   0   0   0   0   0   0   0   0\n",
      "   0   0   0   0   0   0   0   0   0   0   0   0   0   0   0   0   0   0\n",
      "   0   0   0   0   0   0   0   0   0   0]\n"
     ]
    },
    {
     "data": {
      "image/png": "[encoded data removed]",
      "text/plain": [
       "<matplotlib.figure.Figure at 0x11daa4c50>"
      ]
     },
     "metadata": {},
     "output_type": "display_data"
    },
    {
     "name": "stdout",
     "output_type": "stream",
     "text": [
      "(60000, 784)\n",
      "(60000,)\n"
     ]
    }
   ],
   "source": [
    "# Preview the data:\n",
    "print(x[0])\n",
    "plt.figure(figsize=(10,5))\n",
    "plt.title('Label is: %i' % (y[0]), fontsize = 10)\n",
    "displaychar(x[0])\n",
    "print(x.shape)\n",
    "print(y.shape)"
   ]
  },
  {
   "cell_type": "code",
   "execution_count": 19,
   "metadata": {},
   "outputs": [
    {
     "name": "stdout",
     "output_type": "stream",
     "text": [
      "Training set shape (50000, 784)\n",
      "Training label shape (50000,)\n",
      "Validation set shape (10000, 784)\n",
      "Validation label shape (10000,)\n"
     ]
    }
   ],
   "source": [
    "# Problem b)\n",
    "from sklearn.model_selection import train_test_split\n",
    "\n",
    "# Split training into train and validation\n",
    "train_x, valid_x, train_y, valid_y = train_test_split(x, y, test_size=0.16666666666, random_state=1)\n",
    "print('Training set shape',train_x.shape)\n",
    "print('Training label shape',train_y.shape)\n",
    "print('Validation set shape',valid_x.shape)\n",
    "print('Validation label shape',valid_y.shape)"
   ]
  },
  {
   "cell_type": "code",
   "execution_count": 20,
   "metadata": {},
   "outputs": [
    {
     "data": {
      "text/plain": [
       "GaussianNB(priors=None)"
      ]
     },
     "execution_count": 20,
     "metadata": {},
     "output_type": "execute_result"
    }
   ],
   "source": [
    "# Problem c)\n",
    "# Leverage a library found at http://www.eggie5.com/68-mnist-gaussian-classifier to help with the classifier\n",
    "from sklearn.naive_bayes import GaussianNB\n",
    "gnb = GaussianNB()\n",
    "gnb.fit(train_x, train_y)"
   ]
  },
  {
   "cell_type": "code",
   "execution_count": 21,
   "metadata": {},
   "outputs": [
    {
     "name": "stdout",
     "output_type": "stream",
     "text": [
      "The class probability of image 0 is 0.0994\n",
      "The class probability of image 1 is 0.1118\n",
      "The class probability of image 2 is 0.0996\n",
      "The class probability of image 3 is 0.1020\n",
      "The class probability of image 4 is 0.0972\n",
      "The class probability of image 5 is 0.0901\n",
      "The class probability of image 6 is 0.0981\n",
      "The class probability of image 7 is 0.1042\n",
      "The class probability of image 8 is 0.0978\n",
      "The class probability of image 9 is 0.0997\n"
     ]
    }
   ],
   "source": [
    "# Leverage library to gather prior probabilities\n",
    "prior_prob = gnb.class_prior_\n",
    "nums = len(prior_prob)\n",
    "for i in range(nums):\n",
    "    perc = (prior_prob[i])\n",
    "    print('The class probability of image %s is' %i, '{0:.4f}'.format(perc))"
   ]
  },
  {
   "cell_type": "code",
   "execution_count": 22,
   "metadata": {
    "collapsed": true
   },
   "outputs": [],
   "source": [
    "# Gather classes data groups, for use in generating class-wise statistics:\n",
    "classes = gnb.classes_\n",
    "\n",
    "def groups(class_id):\n",
    "    grouping = []\n",
    "    for i, group in enumerate(train_x):\n",
    "        if train_y[i] == class_id:\n",
    "            grouping.append(group)\n",
    "    grouping = np.matrix(grouping)\n",
    "    return grouping\n",
    "\n",
    "# Create covariance matrices and means, by class - use to calculate Gaussians:\n",
    "post_prob = []\n",
    "for c in classes:\n",
    "    grouping = groups(c)\n",
    "    mean_x = np.array(grouping.mean(0))[0]\n",
    "    cov_x = np.cov(grouping.T)\n",
    "    Px = multivariate_normal(mean_x, cov_x, allow_singular=True)\n",
    "    post_prob.append(Px)"
   ]
  },
  {
   "cell_type": "code",
   "execution_count": 23,
   "metadata": {
    "collapsed": true
   },
   "outputs": [],
   "source": [
    "# Now fit a Gaussian with a Naive Bayes classifier:\n",
    "Y = []\n",
    "for i in test_x:\n",
    "    bayes_prob = []\n",
    "    for c in classes:\n",
    "        fin_prob = [c, np.log(prior_prob[c]) + post_prob[c].logpdf(i)]\n",
    "        bayes_prob.append(fin_prob)\n",
    "    prediction = max(bayes_prob, key= lambda a: a[1])\n",
    "    Y.append(prediction[0])"
   ]
  },
  {
   "cell_type": "code",
   "execution_count": 25,
   "metadata": {},
   "outputs": [
    {
     "name": "stdout",
     "output_type": "stream",
     "text": [
      "Accuracy: = 81.380000 %\n"
     ]
    }
   ],
   "source": [
    "# Accuracy without smoothing yields 81%, pretty good fit considering there was no additional attempt to fit the data\n",
    "\n",
    "miss = (test_y != Y).sum()\n",
    "total = test_x.shape[0]\n",
    "print(\"Accuracy: = %f\" %(100*((total-miss)/total)),'%')"
   ]
  },
  {
   "cell_type": "code",
   "execution_count": 26,
   "metadata": {
    "collapsed": true
   },
   "outputs": [],
   "source": [
    "# Now let us get to part d), where we add a smoothing component to the class variances to provide a better fit\n",
    "# Do not disrupt co-variances, as to just increase variance along the diagonal\n",
    "# Observed output and selected relevant c's to demonstrate selection..."
   ]
  },
  {
   "cell_type": "code",
   "execution_count": 27,
   "metadata": {},
   "outputs": [
    {
     "name": "stdout",
     "output_type": "stream",
     "text": [
      "Error rate for c= 1: 1641/10000 = 16.410000 %\n",
      "Error rate for c= 1000: 532/10000 = 5.320000 %\n",
      "Error rate for c= 1500: 521/10000 = 5.210000 %\n",
      "Error rate for c= 2100: 510/10000 = 5.100000 %\n",
      "Error rate for c= 2300: 502/10000 = 5.020000 %\n",
      "Error rate for c= 2400: 498/10000 = 4.980000 %\n",
      "Error rate for c= 2500: 496/10000 = 4.960000 %\n",
      "Error rate for c= 2600: 490/10000 = 4.900000 %\n",
      "Error rate for c= 2700: 489/10000 = 4.890000 %\n",
      "Error rate for c= 2800: 490/10000 = 4.900000 %\n",
      "Error rate for c= 3500: 496/10000 = 4.960000 %\n",
      "Error rate for c= 4000: 501/10000 = 5.010000 %\n"
     ]
    }
   ],
   "source": [
    "constant = [1,1000,1500,2100,2300,2400,2500,2600,2700,2800,3500,4000]\n",
    "error_rates = []\n",
    "for co in constant:\n",
    "    post_prob = []\n",
    "    for c in classes:\n",
    "        grouping = groups(c)\n",
    "        meanx = np.array(grouping.mean(0))[0]\n",
    "        covx = np.cov(grouping, rowvar=0)\n",
    "        cov_smoothed = covx + (co * np.eye(meanx.shape[0]))\n",
    "        p_x = multivariate_normal(meanx, cov_smoothed, allow_singular=True)\n",
    "        post_prob.append(p_x)\n",
    "\n",
    "    Y = []\n",
    "    for x in valid_x:\n",
    "        bayes_prob = []\n",
    "        for c in classes:\n",
    "            fin_prob = [c, np.log(prior_prob[c]) + post_prob[c].logpdf(x)]\n",
    "            bayes_prob.append(fin_prob)\n",
    "        prediction = max(bayes_prob, key= lambda a: a[1])\n",
    "        Y.append(prediction[0])\n",
    "\n",
    "    miss = (valid_y != Y).sum()\n",
    "    total = valid_x.shape[0]\n",
    "    error_rate = 100*(miss/float(total))\n",
    "    error_rates.append(error_rate)\n",
    "    print(\"Error rate for c= %s: %d/%d = %f\" %((co, miss, total, error_rate)),'%')"
   ]
  },
  {
   "cell_type": "code",
   "execution_count": 28,
   "metadata": {},
   "outputs": [
    {
     "name": "stdout",
     "output_type": "stream",
     "text": [
      "The best c value for me was c= 2700 with a error rate of: 4.89 %\n"
     ]
    }
   ],
   "source": [
    "print(\"The best c value for me was c= 2700\",\"with a error rate of:\",min(error_rates), \"%\")"
   ]
  },
  {
   "cell_type": "code",
   "execution_count": 29,
   "metadata": {
    "collapsed": true
   },
   "outputs": [],
   "source": [
    "# Part e) Submit code, use value of c on test set, and pick 5 misclassified"
   ]
  },
  {
   "cell_type": "code",
   "execution_count": 30,
   "metadata": {},
   "outputs": [
    {
     "name": "stdout",
     "output_type": "stream",
     "text": [
      "Error rate for c= 2700: 437/10000 = 4.370000 %\n"
     ]
    }
   ],
   "source": [
    "# Replicate part d, replace validation set with test set \n",
    "constant = 2700\n",
    "post_prob = []\n",
    "for c in classes:\n",
    "    grouping = groups(c)\n",
    "    meanx = np.array(grouping.mean(0))[0]\n",
    "    covx = np.cov(grouping, rowvar=0)\n",
    "    cov_smoothed = covx + (constant * np.eye(meanx.shape[0]))\n",
    "    p_x = multivariate_normal(meanx, cov_smoothed, allow_singular=True)\n",
    "    post_prob.append(p_x)\n",
    "\n",
    "Y = []\n",
    "for x in test_x:\n",
    "    bayes_prob = []\n",
    "    for c in classes:\n",
    "        fin_prob = [c, np.log(prior_prob[c]) + post_prob[c].logpdf(x)]\n",
    "        bayes_prob.append(fin_prob)\n",
    "    prediction = max(bayes_prob, key= lambda a: a[1])\n",
    "    Y.append(prediction[0])\n",
    "\n",
    "miss = (test_y != Y).sum()\n",
    "total = test_x.shape[0]\n",
    "error_rate = 100*(miss/float(total))\n",
    "error_rates.append(error_rate)\n",
    "print(\"Error rate for c= %s: %d/%d = %f\" %((constant, miss, total, error_rate)),'%')"
   ]
  },
  {
   "cell_type": "code",
   "execution_count": 31,
   "metadata": {
    "collapsed": true
   },
   "outputs": [],
   "source": [
    "index_error = np.array(np.where((test_y != Y)==True))[0]"
   ]
  },
  {
   "cell_type": "code",
   "execution_count": 35,
   "metadata": {},
   "outputs": [
    {
     "data": {
      "image/png": "[encoded data removed]",
      "text/plain": [
       "<matplotlib.figure.Figure at 0x11a2b5400>"
      ]
     },
     "metadata": {},
     "output_type": "display_data"
    },
    {
     "name": "stdout",
     "output_type": "stream",
     "text": [
      "Probabality of each number:  [[0, -4215.2891664339231], [1, -4629.7571621129564], [2, -4105.2901396427023], [3, -4095.931391819704], [4, -4263.1841211666951], [5, -4095.4077813197209], [6, -4233.0732500719905], [7, -4357.7579388352951], [8, -4131.7789077268772], [9, -4344.2013725066945]]\n"
     ]
    },
    {
     "data": {
      "image/png": "[encoded data removed]",
      "text/plain": [
       "<matplotlib.figure.Figure at 0x11e609a20>"
      ]
     },
     "metadata": {},
     "output_type": "display_data"
    },
    {
     "name": "stdout",
     "output_type": "stream",
     "text": [
      "Probabality of each number:  [[0, -4126.0736693739054], [1, -4099.1776924240921], [2, -4072.1907010294735], [3, -4066.9578857708052], [4, -4060.5950400397396], [5, -4101.7520958890245], [6, -4208.0419275755421], [7, -3991.100838092621], [8, -4022.446439636909], [9, -3998.0407613761818]]\n"
     ]
    },
    {
     "data": {
      "image/png": "[encoded data removed]",
      "text/plain": [
       "<matplotlib.figure.Figure at 0x11d8388d0>"
      ]
     },
     "metadata": {},
     "output_type": "display_data"
    },
    {
     "name": "stdout",
     "output_type": "stream",
     "text": [
      "Probabality of each number:  [[0, -4153.7620084166192], [1, -4214.5211688603258], [2, -4132.5787840242028], [3, -4088.2483185010133], [4, -4031.2933114995917], [5, -4080.699394673934], [6, -4218.4273529964221], [7, -3987.6319971129283], [8, -4075.3021861965562], [9, -3985.8097510687999]]\n"
     ]
    },
    {
     "data": {
      "image/png": "[encoded data removed]",
      "text/plain": [
       "<matplotlib.figure.Figure at 0x11a015fd0>"
      ]
     },
     "metadata": {},
     "output_type": "display_data"
    },
    {
     "name": "stdout",
     "output_type": "stream",
     "text": [
      "Probabality of each number:  [[0, -4095.6362065586577], [1, -3954.1446728082788], [2, -4021.7226219262907], [3, -4036.7222108019023], [4, -4006.5720426082648], [5, -4071.6996770627416], [6, -4116.5929845262863], [7, -3963.3427010867795], [8, -3997.7145741899608], [9, -3988.4405974630827]]\n"
     ]
    },
    {
     "data": {
      "image/png": "[encoded data removed]",
      "text/plain": [
       "<matplotlib.figure.Figure at 0x11a263978>"
      ]
     },
     "metadata": {},
     "output_type": "display_data"
    },
    {
     "name": "stdout",
     "output_type": "stream",
     "text": [
      "Probabality of each number:  [[0, -4179.2841727026398], [1, -4497.9209520738677], [2, -4132.1600255518124], [3, -4127.2495841448781], [4, -4144.0442616681084], [5, -4128.1875970699648], [6, -4312.6725162652974], [7, -4232.3051452658665], [8, -4096.9172482615695], [9, -4119.8608190534742]]\n"
     ]
    }
   ],
   "source": [
    "incorrect = index_error[:5]\n",
    "actual = test_y[incorrect]\n",
    "miss = []\n",
    "for x in incorrect:\n",
    "    bayes_prob = []\n",
    "    for c in classes:\n",
    "        fin_prob = [c, np.log(prior_prob[c]) + post_prob[c].logpdf(x)]\n",
    "        bayes_prob.append(fin_prob)\n",
    "    prediction = max(bayes_prob, key= lambda a: a[1])\n",
    "    miss.append(prediction[0])\n",
    "\n",
    "count = 0\n",
    "for i in range(len(incorrect)):\n",
    "    bayes_prob = []\n",
    "    for c in classes:\n",
    "        fin_prob = [c, np.log(prior_prob[c]) + post_prob[c].logpdf(test_x[incorrect[i]])]\n",
    "        bayes_prob.append(fin_prob)\n",
    "    count += 1    \n",
    "    plt.figure(figsize=(10,5))\n",
    "    plt.subplot(1, 5, count)\n",
    "    plt.title('Actual was: %i, predicted: %i' % (actual[i], miss[i]), fontsize = 20)\n",
    "    displaychar(test_x[incorrect[i]])\n",
    "    print(\"Probabality of each number: \",bayes_prob)"
   ]
  }
 ],
 "metadata": {
  "kernelspec": {
   "display_name": "Python 3",
   "language": "python",
   "name": "python3"
  },
  "language_info": {
   "codemirror_mode": {
    "name": "ipython",
    "version": 3
   },
   "file_extension": ".py",
   "mimetype": "text/x-python",
   "name": "python",
   "nbconvert_exporter": "python",
   "pygments_lexer": "ipython3",
   "version": "3.6.2"
  }
 },
 "nbformat": 4,
 "nbformat_minor": 2
}
