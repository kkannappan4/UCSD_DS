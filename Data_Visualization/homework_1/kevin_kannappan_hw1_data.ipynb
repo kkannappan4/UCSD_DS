{
 "cells": [
  {
   "cell_type": "markdown",
   "metadata": {},
   "source": [
    "# Homework 1\n",
    "\n",
    "## Data gathering and cleaning for import into D3 JS"
   ]
  },
  {
   "cell_type": "code",
   "execution_count": null,
   "metadata": {},
   "outputs": [],
   "source": [
    "import pandas as pd\n",
    "import numpy as np\n",
    "import matplotlib.pyplot as plt"
   ]
  },
  {
   "cell_type": "code",
   "execution_count": null,
   "metadata": {},
   "outputs": [],
   "source": [
    "olympics_dat = pd.read_csv('./exercise2-olympics.csv')\n",
    "print(olympics_dat.shape)\n",
    "olympics_dat.head()"
   ]
  },
  {
   "cell_type": "code",
   "execution_count": null,
   "metadata": {},
   "outputs": [],
   "source": [
    "# Remove columns not relevant to our visualization goals\n",
    "olympics_dat.drop(['Discipline', 'Athlete','City','Country'], axis=1, inplace=True)\n",
    "\n",
    "# De-dupe Olympics, for country-level placement:\n",
    "olympics_dd = olympics_dat.copy()\n",
    "olympics_dd = olympics_dd.drop_duplicates()\n",
    "\n",
    "# Create numeric column for gold winners:\n",
    "olympics_dd['gold'] = np.where(olympics_dd['Medal']=='Gold', 1, 0)"
   ]
  },
  {
   "cell_type": "code",
   "execution_count": null,
   "metadata": {},
   "outputs": [],
   "source": [
    "# New dataframe shape\n",
    "print(olympics_dd.shape)\n",
    "olympics_dd.head()"
   ]
  },
  {
   "cell_type": "code",
   "execution_count": null,
   "metadata": {},
   "outputs": [],
   "source": [
    "# Create statistics dataframes\n",
    "country_gold = olympics_dd.groupby(['Year','Country Code'])['gold'].sum().reset_index(name='gold_count')\n",
    "print(country_gold.shape,\": gold size\")\n",
    "country_medal = olympics_dd.groupby(['Year','Country Code']).size().reset_index(name='medal_count').sort_values(['Year','medal_count'],ascending=[True, False])\n",
    "print(country_medal.shape,\": total size\")"
   ]
  },
  {
   "cell_type": "code",
   "execution_count": null,
   "metadata": {},
   "outputs": [],
   "source": [
    "# Join them:\n",
    "olympics_fin = pd.merge(country_medal,country_gold,how='left', left_on=['Year','Country Code'], right_on = ['Year','Country Code'])\n",
    "print(olympics_fin.shape)\n",
    "olympics_fin.head()"
   ]
  },
  {
   "cell_type": "code",
   "execution_count": null,
   "metadata": {},
   "outputs": [],
   "source": [
    "# Create one last column, then export results:\n",
    "olympics_fin['fp_ratio'] = round(olympics_fin['gold_count']/olympics_fin['medal_count'],2)\n",
    "olympics_fin.head(20)"
   ]
  },
  {
   "cell_type": "code",
   "execution_count": null,
   "metadata": {},
   "outputs": [],
   "source": [
    "# Only keep the top 5, by medal count, each olympics:\n",
    "olympics_fin_5 = olympics_fin.iloc[olympics_fin.groupby(['Year'])['medal_count'].nlargest(5).index.levels[1]]\n",
    "olympics_fin_5.head(10)"
   ]
  },
  {
   "cell_type": "code",
   "execution_count": null,
   "metadata": {},
   "outputs": [],
   "source": [
    "# Show final df size:\n",
    "print(olympics_fin_5.size)\n",
    "\n",
    "# Check if it is the right amount of data:\n",
    "len(olympics_fin_5.Year.unique())*5*5==olympics_fin_5.size"
   ]
  },
  {
   "cell_type": "code",
   "execution_count": null,
   "metadata": {},
   "outputs": [],
   "source": [
    "# Gather data for countries, who are the biggest winners:\n",
    "country_five = olympics_fin.groupby(['Country Code'])['medal_count'].sum().reset_index(name='total_medals').sort_values(['total_medals'],ascending=[False]).head(5)\n",
    "top_5_list = country_five['Country Code'].tolist()\n",
    "top_5_list"
   ]
  },
  {
   "cell_type": "code",
   "execution_count": null,
   "metadata": {},
   "outputs": [],
   "source": [
    "# Create filtered data-set based on original:\n",
    "olympics_fin_top_5 = olympics_fin[olympics_fin['Country Code'].isin(top_5_list)]\n",
    "print(olympics_fin_top_5.shape)\n",
    "olympics_fin_top_5.head()"
   ]
  },
  {
   "cell_type": "code",
   "execution_count": null,
   "metadata": {},
   "outputs": [],
   "source": [
    "# Export data:\n",
    "olympics_fin_5.to_csv('olympics_5.csv',index=False)\n",
    "olympics_fin_top_5.to_csv('olympics_top_5.csv',index=False)\n",
    "olympics_fin.to_csv('olympics.csv',index=False)"
   ]
  }
 ],
 "metadata": {
  "kernelspec": {
   "display_name": "Python 3",
   "language": "python",
   "name": "python3"
  },
  "language_info": {
   "codemirror_mode": {
    "name": "ipython",
    "version": 3
   },
   "file_extension": ".py",
   "mimetype": "text/x-python",
   "name": "python",
   "nbconvert_exporter": "python",
   "pygments_lexer": "ipython3",
   "version": "3.6.9"
  }
 },
 "nbformat": 4,
 "nbformat_minor": 2
}
