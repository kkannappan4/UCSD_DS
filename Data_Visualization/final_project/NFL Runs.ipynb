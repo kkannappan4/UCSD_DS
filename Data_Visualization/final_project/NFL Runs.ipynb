{
 "cells": [
  {
   "cell_type": "code",
   "execution_count": null,
   "metadata": {},
   "outputs": [],
   "source": [
    "import numpy as np\n",
    "import pandas as pd\n",
    "import matplotlib.pyplot as plt\n",
    "import seaborn as sns\n",
    "from math import sin, cos, radians"
   ]
  },
  {
   "cell_type": "code",
   "execution_count": null,
   "metadata": {},
   "outputs": [],
   "source": [
    "nfl_dat = pd.read_csv('runs_nfl_data.csv')\n",
    "print(nfl_dat.shape)\n",
    "nfl_dat.head()"
   ]
  },
  {
   "cell_type": "code",
   "execution_count": null,
   "metadata": {},
   "outputs": [],
   "source": [
    "# Let us try to figure out where the play granularity items are:\n",
    "nfl_dat.columns"
   ]
  },
  {
   "cell_type": "code",
   "execution_count": null,
   "metadata": {},
   "outputs": [],
   "source": [
    "play_cols = []\n",
    "indiv_cols = []\n",
    "\n",
    "for col in nfl_dat.columns:\n",
    "    unique_val = len(nfl_dat[col].head(22).unique())\n",
    "    print('For ',col,'there are ',unique_val,'unique values in the first play')\n",
    "    if unique_val == 1:\n",
    "        play_cols.append(col)\n",
    "    else:\n",
    "        indiv_cols.append(col)"
   ]
  },
  {
   "cell_type": "code",
   "execution_count": null,
   "metadata": {},
   "outputs": [],
   "source": [
    "# This should be a run-level dataset, stripped of unique information\n",
    "plays_dat = nfl_dat[play_cols].copy()\n",
    "plays_dat.drop_duplicates(inplace=True)\n",
    "plays_dat.reset_index(inplace=True,drop=True)\n",
    "print(plays_dat.shape)\n",
    "plays_dat.head()"
   ]
  },
  {
   "cell_type": "code",
   "execution_count": null,
   "metadata": {},
   "outputs": [],
   "source": [
    "# Let us check to see if that is the case:\n",
    "print(len(plays_dat.PlayId.unique()),'play IDs')\n",
    "print(plays_dat.shape[0],'rows in data-set')"
   ]
  },
  {
   "cell_type": "code",
   "execution_count": null,
   "metadata": {},
   "outputs": [],
   "source": [
    "# close but why the discrepancy?\n",
    "dupes_list = plays_dat.PlayId.value_counts().head(13).index.tolist()\n",
    "for col in plays_dat:\n",
    "    unique_val = len(plays_dat[plays_dat.PlayId.isin(dupes_list)][col].head(2).unique())\n",
    "    if unique_val > 1:\n",
    "        print(col)"
   ]
  },
  {
   "cell_type": "code",
   "execution_count": null,
   "metadata": {},
   "outputs": [],
   "source": [
    "plays_dat[plays_dat.PlayId.isin(dupes_list)]['WindSpeed'].head(4).unique()"
   ]
  },
  {
   "cell_type": "code",
   "execution_count": null,
   "metadata": {},
   "outputs": [],
   "source": [
    "# Looks like windspeed needs to be converted:\n",
    "plays_dat.WindSpeed = pd.to_numeric(plays_dat['WindSpeed'], errors='coerce').fillna(0.0)"
   ]
  },
  {
   "cell_type": "code",
   "execution_count": null,
   "metadata": {},
   "outputs": [],
   "source": [
    "# Now, re de-dupe dataset:\n",
    "plays_dat2 = plays_dat.copy()\n",
    "plays_dat2.drop_duplicates(inplace=True)\n",
    "plays_dat2.reset_index(inplace=True,drop=True)\n",
    "print(plays_dat2.shape)\n",
    "plays_dat2.head()"
   ]
  },
  {
   "cell_type": "code",
   "execution_count": null,
   "metadata": {},
   "outputs": [],
   "source": [
    "# Check again, for sanity:\n",
    "print(len(plays_dat2.PlayId.unique()),'play IDs')\n",
    "print(plays_dat2.shape[0],'rows in data-set')"
   ]
  },
  {
   "cell_type": "code",
   "execution_count": null,
   "metadata": {},
   "outputs": [],
   "source": [
    "# Let us get our players data\n",
    "indiv_cols.append('GameId')\n",
    "indiv_cols.append('PlayId')\n",
    "players_dat = nfl_dat[indiv_cols]\n",
    "players_dat.head()"
   ]
  },
  {
   "cell_type": "code",
   "execution_count": null,
   "metadata": {},
   "outputs": [],
   "source": [
    "# Rusher Data:\n",
    "rushers_dat = pd.merge(plays_dat2, players_dat,  how='left', left_on=['GameId','PlayId','NflIdRusher'], right_on = ['GameId','PlayId','NflId'])"
   ]
  },
  {
   "cell_type": "code",
   "execution_count": null,
   "metadata": {},
   "outputs": [],
   "source": [
    "print(rushers_dat.shape)\n",
    "rushers_dat.head()"
   ]
  },
  {
   "cell_type": "code",
   "execution_count": null,
   "metadata": {},
   "outputs": [],
   "source": [
    "rushers_dat[['GameId','X','Y','Orientation','Dir','S','A','Dis','Team','PlayDirection']].head(10)"
   ]
  },
  {
   "cell_type": "code",
   "execution_count": null,
   "metadata": {},
   "outputs": [],
   "source": [
    "rushers_dat.to_csv('rushers_data.csv',index=False)"
   ]
  },
  {
   "cell_type": "code",
   "execution_count": null,
   "metadata": {},
   "outputs": [],
   "source": [
    "(sin(radians(245.7))*0.38)+30.53"
   ]
  },
  {
   "cell_type": "code",
   "execution_count": null,
   "metadata": {},
   "outputs": [],
   "source": [
    "(cos(radians(245.7))*0.38)+78.75"
   ]
  },
  {
   "cell_type": "code",
   "execution_count": null,
   "metadata": {},
   "outputs": [],
   "source": [
    "(30.53-30.18)+(78.75-78.59)"
   ]
  },
  {
   "cell_type": "code",
   "execution_count": null,
   "metadata": {},
   "outputs": [],
   "source": [
    "rushers_dat[(rushers_dat['GameId']==2017090700) & (rushers_dat['Team']=='away')].Dir.hist()"
   ]
  },
  {
   "cell_type": "code",
   "execution_count": null,
   "metadata": {},
   "outputs": [],
   "source": [
    "rushers_dat[(rushers_dat['Orientation']>180) & (rushers_dat['Position'] != 'RB')]['Dir'].plot.kde()"
   ]
  },
  {
   "cell_type": "code",
   "execution_count": null,
   "metadata": {},
   "outputs": [],
   "source": [
    "rushers_dat_new = rushers_dat.copy()"
   ]
  },
  {
   "cell_type": "code",
   "execution_count": null,
   "metadata": {},
   "outputs": [],
   "source": [
    "for i in range(len(rushers_dat_new)):\n",
    "    if rushers_dat_new.iloc[i]['Orientation']>180:\n",
    "        old_dir, old_x, old_y = rushers_dat_new.iloc[i]['Dir'],rushers_dat_new.iloc[i]['X'],rushers_dat_new.iloc[i]['Y']\n",
    "        rushers_dat_new.at[i,'Dir'] = old_dir - 180\n",
    "        rushers_dat_new.at[i,'X'] = 120 - old_x\n",
    "        rushers_dat_new.at[i,'Y'] = 53.3 - old_y"
   ]
  },
  {
   "cell_type": "code",
   "execution_count": null,
   "metadata": {},
   "outputs": [],
   "source": [
    "rushers_dat_new[['GameId','X','Y','Orientation','Dir','S','A','Dis','Team','PlayDirection','Yards']].head(10)"
   ]
  },
  {
   "cell_type": "code",
   "execution_count": null,
   "metadata": {},
   "outputs": [],
   "source": [
    "rushers_dat_new['X1'] = rushers_dat_new['Yards']+rushers_dat_new['X']\n",
    "rushers_dat_new['Y1'] = ((np.sin(np.radians(rushers_dat_new['Dir'])))*rushers_dat_new['Yards'])+rushers_dat_new['Y']"
   ]
  },
  {
   "cell_type": "code",
   "execution_count": null,
   "metadata": {},
   "outputs": [],
   "source": [
    "export_cols = ['GameId', 'Season','HomeTeamAbbr', 'VisitorTeamAbbr',\n",
    "               'PossessionTeam','Team','Week', 'Quarter',\n",
    "               'Down', 'Distance', 'FieldPosition',\n",
    "               'HomeScoreBeforePlay', 'VisitorScoreBeforePlay',\n",
    "               'OffenseFormation', 'DefendersInTheBox',\n",
    "               'Yards', 'X', 'Y', 'S', 'A', 'Dis',\n",
    "               'Orientation', 'Dir', 'DisplayName', 'JerseyNumber',\n",
    "               'PlayerHeight', 'PlayerWeight', 'PlayerCollegeName',\n",
    "               'Position', 'X1', 'Y1']\n",
    "rushers_dat_new[export_cols].to_csv('rushers_lines.csv',index=False)"
   ]
  },
  {
   "cell_type": "code",
   "execution_count": null,
   "metadata": {},
   "outputs": [],
   "source": [
    "rushers_dat_new[export_cols].head(500).to_csv('rushers_500.csv',index=False)"
   ]
  },
  {
   "cell_type": "code",
   "execution_count": null,
   "metadata": {},
   "outputs": [],
   "source": [
    "rushers_dat_new.Yards.hist()"
   ]
  },
  {
   "cell_type": "code",
   "execution_count": null,
   "metadata": {},
   "outputs": [],
   "source": []
  }
 ],
 "metadata": {
  "kernelspec": {
   "display_name": "Python 3",
   "language": "python",
   "name": "python3"
  },
  "language_info": {
   "codemirror_mode": {
    "name": "ipython",
    "version": 3
   },
   "file_extension": ".py",
   "mimetype": "text/x-python",
   "name": "python",
   "nbconvert_exporter": "python",
   "pygments_lexer": "ipython3",
   "version": "3.6.9"
  }
 },
 "nbformat": 4,
 "nbformat_minor": 2
}
