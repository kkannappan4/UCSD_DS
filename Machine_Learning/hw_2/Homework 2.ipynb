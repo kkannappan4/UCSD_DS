{
 "cells": [
  {
   "cell_type": "markdown",
   "metadata": {},
   "source": [
    "# Homework 2\n",
    "\n",
    "## Data"
   ]
  },
  {
   "cell_type": "code",
   "execution_count": 1,
   "metadata": {
    "collapsed": true
   },
   "outputs": [],
   "source": [
    "import pandas as pd\n",
    "import numpy as np\n",
    "from sklearn.model_selection import train_test_split\n",
    "import matplotlib.pyplot as plt"
   ]
  },
  {
   "cell_type": "code",
   "execution_count": 2,
   "metadata": {
    "collapsed": true
   },
   "outputs": [],
   "source": [
    "X_train = pd.read_csv('./mnist_train_data.csv', header= None)\n",
    "y_train = pd.read_csv('./mnist_train_labels.csv', names=['labels'])\n",
    "X_test = pd.read_csv('./mnist_test_data.csv', header= None)\n",
    "y_test = pd.read_csv('./mnist_test_labels.csv', names=['labels'])"
   ]
  },
  {
   "cell_type": "markdown",
   "metadata": {},
   "source": [
    "## Generative Learning\n",
    "\n",
    "Problem 1:"
   ]
  },
  {
   "cell_type": "code",
   "execution_count": 3,
   "metadata": {},
   "outputs": [
    {
     "name": "stdout",
     "output_type": "stream",
     "text": [
      "0    0.098667\n",
      "1    0.111833\n",
      "2    0.096833\n",
      "3    0.101333\n",
      "4    0.103833\n",
      "5    0.085667\n",
      "6    0.101333\n",
      "7    0.108500\n",
      "8    0.091833\n",
      "9    0.100167\n",
      "Name: labels, dtype: float64\n"
     ]
    }
   ],
   "source": [
    "# Prior label probabilities:\n",
    "print(y_train['labels'].value_counts().sort_index()/len(y_train))\n",
    "prior_probs = y_train['labels'].value_counts().sort_index()/len(y_train)\n",
    "\n",
    "prior_prob_list = prior_probs.tolist()"
   ]
  },
  {
   "cell_type": "markdown",
   "metadata": {},
   "source": [
    "Problem 2:"
   ]
  },
  {
   "cell_type": "code",
   "execution_count": 20,
   "metadata": {},
   "outputs": [
    {
     "name": "stdout",
     "output_type": "stream",
     "text": [
      "Max Pji for label 0  =  0.851851851852\n",
      "Max Pji for label 1  =  0.98514115899\n",
      "Max Pji for label 2  =  0.728987993139\n",
      "Max Pji for label 3  =  0.808196721311\n",
      "Max Pji for label 4  =  0.8496\n",
      "Max Pji for label 5  =  0.711240310078\n",
      "Max Pji for label 6  =  0.849180327869\n",
      "Max Pji for label 7  =  0.794793261868\n",
      "Max Pji for label 8  =  0.875226039783\n",
      "Max Pji for label 9  =  0.867330016584\n"
     ]
    }
   ],
   "source": [
    "total_train = pd.concat([X_train, y_train], axis = 1)\n",
    "prob_tab = np.zeros(shape=[10, 784])\n",
    " \n",
    "for i in np.sort(y_train['labels'].unique()):\n",
    "    a = total_train.loc[total_train['labels'] == i]\n",
    "    # Remove label column\n",
    "    a = a.drop('labels', 1)\n",
    "    sum_val = (a.values).sum(axis = 0)\n",
    "   \n",
    "    # Laplacian smoothing\n",
    "    probabilities = (sum_val +1 ) / (a.shape[0] + 2)\n",
    "    prob_tab[i, :] = probabilities\n",
    "    print (\"Max Pji for label\", i,   \" = \",probabilities.max())\n",
    "\n",
    "log_prob_tab = np.log(prob_tab.T)"
   ]
  },
  {
   "cell_type": "markdown",
   "metadata": {},
   "source": [
    "Problem 3:"
   ]
  },
  {
   "cell_type": "code",
   "execution_count": 23,
   "metadata": {
    "collapsed": true
   },
   "outputs": [],
   "source": [
    "mm_l = np.matmul(X_test, log_prob_tab)\n",
    "mm_r = np.matmul((1-X_test), np.log(1-prob_tab).T )\n",
    "\n",
    "final_matrix = np.add((mm_l+mm_r), np.log(prior_prob_list))\n",
    "y_pred = np.argmax(final_matrix, axis = 1)"
   ]
  },
  {
   "cell_type": "code",
   "execution_count": 24,
   "metadata": {},
   "outputs": [
    {
     "name": "stdout",
     "output_type": "stream",
     "text": [
      "The accuracy is 0.809\n"
     ]
    }
   ],
   "source": [
    "from sklearn import metrics\n",
    "import itertools\n",
    "print('The accuracy is', metrics.accuracy_score(y_test, y_pred))"
   ]
  },
  {
   "cell_type": "code",
   "execution_count": 25,
   "metadata": {
    "collapsed": true
   },
   "outputs": [],
   "source": [
    "def plot_confusion_matrix(cm, classes,\n",
    "                          normalize=False,\n",
    "                          title='Confusion matrix',\n",
    "                          cmap=plt.cm.Blues):\n",
    "    \"\"\"\n",
    "    This function prints and plots the confusion matrix.\n",
    "    Normalization can be applied by setting `normalize=True`.\n",
    "    \"\"\"\n",
    "    plt.imshow(cm, interpolation='nearest', cmap=cmap)\n",
    "    plt.title(title)\n",
    "    plt.colorbar()\n",
    "    tick_marks = np.arange(len(classes))\n",
    "    plt.xticks(tick_marks, classes, rotation=45)\n",
    "    plt.yticks(tick_marks, classes)\n",
    "\n",
    "    print(cm)\n",
    "\n",
    "    thresh = cm.max() / 2.\n",
    "    for i, j in itertools.product(range(cm.shape[0]), range(cm.shape[1])):\n",
    "        plt.text(j, i, cm[i, j],\n",
    "                 horizontalalignment=\"center\",\n",
    "                 color=\"white\" if cm[i, j] > thresh else \"black\")\n",
    "\n",
    "    plt.tight_layout()\n",
    "    plt.ylabel('True label')\n",
    "    plt.xlabel('Predicted label')\n",
    "    plt.show()"
   ]
  },
  {
   "cell_type": "markdown",
   "metadata": {},
   "source": [
    "Problem 4:"
   ]
  },
  {
   "cell_type": "code",
   "execution_count": 26,
   "metadata": {},
   "outputs": [
    {
     "name": "stdout",
     "output_type": "stream",
     "text": [
      "[[ 74   0   0   0   0   5   2   0   4   0]\n",
      " [  0 120   0   0   0   4   1   0   1   0]\n",
      " [  1   7  88   4   0   1   2   3   8   2]\n",
      " [  0   2   1  86   1   6   3   2   3   3]\n",
      " [  1   1   1   0  83   0   2   0   1  21]\n",
      " [  3   1   1  11   2  62   2   3   1   1]\n",
      " [  3   0   4   0   3   4  73   0   0   0]\n",
      " [  0   6   2   0   3   1   0  77   3   7]\n",
      " [  0   2   2   9   4   3   1   2  61   5]\n",
      " [  0   1   0   1   4   0   0   0   3  85]]\n"
     ]
    },
    {
     "data": {
      "image/png": "[encoded data removed]",
      "text/plain": [
       "<matplotlib.figure.Figure at 0x11694f978>"
      ]
     },
     "metadata": {},
     "output_type": "display_data"
    }
   ],
   "source": [
    "cnf_matrix = metrics.confusion_matrix(y_test, y_pred)\n",
    "np.set_printoptions(precision=2)\n",
    "\n",
    "# Plot non-normalized confusion matrix\n",
    "plt.figure()\n",
    "plot_confusion_matrix(cnf_matrix, classes=np.sort(y_test['labels'].unique()),\n",
    "                      title='Confusion matrix')"
   ]
  },
  {
   "cell_type": "markdown",
   "metadata": {},
   "source": [
    "According to the confusion matrix, we can see that the biggest misclassification pairs are:\n",
    "\n",
    "* 4 being misclassified as a 9 (21 times)\n",
    "* 5 being misclassified as a 3 (11 times)\n",
    "* 8 being misclassified as a 3 (9 times)"
   ]
  },
  {
   "cell_type": "code",
   "execution_count": 30,
   "metadata": {
    "collapsed": true
   },
   "outputs": [],
   "source": [
    "def displaychar(image):\n",
    "    plt.imshow(np.reshape(image, (28,28)), cmap=plt.cm.gray)\n",
    "    plt.axis('off')\n",
    "    plt.show()"
   ]
  },
  {
   "cell_type": "markdown",
   "metadata": {},
   "source": [
    "Problem 5:"
   ]
  },
  {
   "cell_type": "code",
   "execution_count": 32,
   "metadata": {
    "collapsed": true
   },
   "outputs": [],
   "source": [
    "index_error = np.array(np.where((y_test['labels'] != y_pred)==True))[0]"
   ]
  },
  {
   "cell_type": "code",
   "execution_count": 33,
   "metadata": {},
   "outputs": [
    {
     "name": "stderr",
     "output_type": "stream",
     "text": [
      "/Users/kkannapp/anaconda/lib/python3.6/site-packages/numpy/core/fromnumeric.py:57: FutureWarning: reshape is deprecated and will raise in a subsequent release. Please use .values.reshape(...) instead\n",
      "  return getattr(obj, method)(*args, **kwds)\n"
     ]
    },
    {
     "data": {
      "image/png": "[encoded data removed]",
      "text/plain": [
       "<matplotlib.figure.Figure at 0x116f12ef0>"
      ]
     },
     "metadata": {},
     "output_type": "display_data"
    },
    {
     "data": {
      "image/png": "[encoded data removed]",
      "text/plain": [
       "<matplotlib.figure.Figure at 0x116d16cf8>"
      ]
     },
     "metadata": {},
     "output_type": "display_data"
    }
   ],
   "source": [
    "incorrect = index_error[:2]\n",
    "actual = y_test.iloc[incorrect]['labels']\n",
    "miss = y_pred[incorrect]\n",
    "for i in range(len(incorrect)):\n",
    "    b = incorrect[i]\n",
    "    plt.figure(figsize=(10,5))\n",
    "    plt.title('Actual was: %i, predicted: %i' % (actual.iloc[i], miss[i]), fontsize = 20)\n",
    "    displaychar(X_test.iloc[b]);"
   ]
  },
  {
   "cell_type": "markdown",
   "metadata": {},
   "source": [
    "Breast Cancer Data for problems 6,7:"
   ]
  },
  {
   "cell_type": "code",
   "execution_count": 36,
   "metadata": {},
   "outputs": [
    {
     "name": "stdout",
     "output_type": "stream",
     "text": [
      "Train (228,) Valid (113,) Test (228,)\n"
     ]
    }
   ],
   "source": [
    "from sklearn.datasets import load_breast_cancer\n",
    "from sklearn.model_selection import train_test_split\n",
    "bc = load_breast_cancer()\n",
    "X, X_test, y, y_test = train_test_split(bc.data, bc.target, test_size=0.4, random_state= 5)\n",
    "X_train, X_valid, y_train, y_valid = train_test_split(X, y, test_size=0.33, random_state= 5)\n",
    "print('Train', y_train.shape, 'Valid', y_valid.shape, 'Test', y_test.shape)\n",
    "\n",
    "# For final predictions:\n",
    "X_train_fin = np.concatenate((X_train,X_valid))\n",
    "y_train_fin = np.concatenate((y_train,y_valid))"
   ]
  },
  {
   "cell_type": "markdown",
   "metadata": {},
   "source": [
    "Problem 6:"
   ]
  },
  {
   "cell_type": "code",
   "execution_count": 51,
   "metadata": {},
   "outputs": [
    {
     "name": "stdout",
     "output_type": "stream",
     "text": [
      "For criterion = spherical the validation accuracy = 0.115044247788\n",
      "For criterion = tied the validation accuracy = 0.212389380531\n",
      "For criterion = diag the validation accuracy = 0.0973451327434\n",
      "For criterion = full the validation accuracy = 0.83185840708\n",
      "The best criterion is full with a validation accuracy of 0.83185840708\n",
      "\n",
      "\n",
      "Final accuracy on total training data = 0.938596491228\n"
     ]
    }
   ],
   "source": [
    "from sklearn.mixture import GaussianMixture\n",
    "best_acc = 0\n",
    "cov_parameter = ['spherical', 'tied', 'diag', 'full']\n",
    "for i in cov_parameter:\n",
    "    clf = GaussianMixture(n_components=2, covariance_type = i)\n",
    "    clf.fit(X_train, y_train)\n",
    "    y_pred = clf.predict(X_valid)\n",
    "    accuracy = np.sum(y_pred == y_valid)*1.0/len(y_valid)\n",
    "    print('For criterion =', i, 'the validation accuracy = ' + str(accuracy))\n",
    "    if (accuracy > best_acc):\n",
    "        best_cov = i\n",
    "        best_acc = accuracy\n",
    "print('The best criterion is', best_cov, 'with a validation accuracy of', best_acc)\n",
    "\n",
    "clf = GaussianMixture(n_components=2, covariance_type = best_cov)\n",
    "clf.fit(X_train_fin, y_train_fin)\n",
    "predictions = clf.predict(X_test)\n",
    "fin_accuracy = metrics.accuracy_score(y_test, predictions)\n",
    "print('\\n')\n",
    "print('Final accuracy on total training data = ' + str(fin_accuracy))"
   ]
  },
  {
   "cell_type": "markdown",
   "metadata": {},
   "source": [
    "Problem 7:"
   ]
  },
  {
   "cell_type": "code",
   "execution_count": 56,
   "metadata": {},
   "outputs": [
    {
     "name": "stdout",
     "output_type": "stream",
     "text": [
      "The test accuracy = 0.964912280702\n"
     ]
    }
   ],
   "source": [
    "from sklearn.discriminant_analysis import LinearDiscriminantAnalysis\n",
    "clf = LinearDiscriminantAnalysis()\n",
    "clf.fit(X_train_fin, y_train_fin)\n",
    "predictions = clf.predict(X_test)\n",
    "print('The test accuracy = ' + str(sum(predictions == y_test)/len(y_test)))"
   ]
  },
  {
   "cell_type": "code",
   "execution_count": 59,
   "metadata": {},
   "outputs": [
    {
     "name": "stdout",
     "output_type": "stream",
     "text": [
      "The transformation matrix is \n",
      " [[  1.35e+00  -1.27e-01  -1.36e-01  -2.44e-04  -2.24e+01   8.56e+01\n",
      "    1.39e+01  -1.22e+02   1.60e+01   7.43e+00  -1.48e+01   4.83e-01\n",
      "    1.73e+00  -1.64e-02  -4.69e+02  -1.96e+00   1.60e+01  -9.78e+01\n",
      "   -6.14e+01   5.59e+02  -1.26e+00  -2.00e-01  -2.62e-01   1.93e-02\n",
      "    3.19e+01   4.09e+00  -1.27e+01  -9.32e+00  -1.49e+01  -1.72e+02]]\n",
      "\n",
      "\n",
      "The intercept is 51.8553297822\n"
     ]
    }
   ],
   "source": [
    "print('The transformation matrix is \\n', clf.coef_)\n",
    "print('\\n')\n",
    "print('The intercept is', clf.intercept_[0])"
   ]
  },
  {
   "cell_type": "markdown",
   "metadata": {},
   "source": [
    "## Evaluating Classifiers\n",
    "\n",
    "Problem 8:"
   ]
  },
  {
   "cell_type": "code",
   "execution_count": 61,
   "metadata": {},
   "outputs": [
    {
     "name": "stdout",
     "output_type": "stream",
     "text": [
      "(1797, 64)\n"
     ]
    }
   ],
   "source": [
    "from sklearn.neighbors import KNeighborsClassifier\n",
    "from sklearn.datasets import load_digits\n",
    "digits = load_digits()\n",
    "print(digits.data.shape)\n",
    "\n",
    "# Last 1300 as training, beginning 497 as test\n",
    "X_train = digits.data[:497]\n",
    "y_train = digits.target[:497]\n",
    "X_test = digits.data[497:]\n",
    "y_test = digits.target[497:]"
   ]
  },
  {
   "cell_type": "code",
   "execution_count": 64,
   "metadata": {
    "collapsed": true
   },
   "outputs": [],
   "source": [
    "# Fit the model:\n",
    "clf = KNeighborsClassifier(n_neighbors=5, metric = 'chebyshev')\n",
    "clf.fit(X_train, y_train)\n",
    "y_pred = clf.predict(X_test)\n",
    "\n",
    "# Evaluation metrics:\n",
    "TP = sum(y_pred[y_test == 3] == 3)\n",
    "FP = sum(y_pred[y_test != 3] == 3)\n",
    "TN = sum(y_pred[y_test != 3] != 3)\n",
    "FN = sum(y_pred[y_test == 3] != 3)"
   ]
  },
  {
   "cell_type": "code",
   "execution_count": 67,
   "metadata": {},
   "outputs": [
    {
     "name": "stdout",
     "output_type": "stream",
     "text": [
      "Specificity: 0.988888888889\n",
      "Sensitivity: 0.869230769231\n",
      "True Positive Rate (TPR): 0.869230769231\n",
      "True Negative Rate (TNR): 0.988888888889\n",
      "False Negative Rate (FNR): 0.130769230769\n",
      "False Positive Rate (FPR): 0.0111111111111\n",
      "Precision: 0.896825396825\n",
      "Recall: 0.869230769231\n"
     ]
    }
   ],
   "source": [
    "print('Specificity:', TN/(TN+FP))\n",
    "print('Sensitivity:', TP/(TP+FN))\n",
    "print('True Positive Rate (TPR):', TP/(TP+FN))\n",
    "print('True Negative Rate (TNR):', TN/(TN+FP))\n",
    "print('False Negative Rate (FNR):', FN/(TP+FN))\n",
    "print('False Positive Rate (FPR):', FP/(FP+TN))\n",
    "print('Precision:', TP/(TP+FP))\n",
    "print('Recall:', TP/(TP+FN))"
   ]
  },
  {
   "cell_type": "markdown",
   "metadata": {},
   "source": [
    "From my experience, these are exceptional evaluation metrics!"
   ]
  },
  {
   "cell_type": "markdown",
   "metadata": {},
   "source": [
    "## Regression\n",
    "\n",
    "Problem 9:"
   ]
  },
  {
   "cell_type": "code",
   "execution_count": 70,
   "metadata": {
    "collapsed": true
   },
   "outputs": [],
   "source": [
    "from sklearn.datasets import load_diabetes\n",
    "diabetes = load_diabetes()\n",
    "\n",
    "# Form data-set:\n",
    "X_train, X_test, y_train, y_test = train_test_split(diabetes.data, diabetes.target, test_size = 0.1, random_state = 10)"
   ]
  },
  {
   "cell_type": "code",
   "execution_count": 71,
   "metadata": {},
   "outputs": [
    {
     "name": "stdout",
     "output_type": "stream",
     "text": [
      "Test MSE: 2155.96465103\n",
      "Test MAE: 36.3181336987\n"
     ]
    }
   ],
   "source": [
    "from sklearn.linear_model import LinearRegression\n",
    "clf = LinearRegression()\n",
    "clf.fit(X_train, y_train)\n",
    "predictions = clf.predict(X_test)\n",
    "\n",
    "print('Test MSE:', metrics.mean_squared_error(y_test, predictions))\n",
    "print('Test MAE:', metrics.mean_absolute_error(y_test, predictions))"
   ]
  },
  {
   "cell_type": "markdown",
   "metadata": {},
   "source": [
    "Problem 10:"
   ]
  },
  {
   "cell_type": "code",
   "execution_count": 73,
   "metadata": {},
   "outputs": [
    {
     "name": "stdout",
     "output_type": "stream",
     "text": [
      "Removing feature 0 , test MSE: 2152.80664218\n",
      "Removing feature 1 , test MSE: 2259.13307937\n",
      "Removing feature 2 , test MSE: 2783.51448185\n",
      "Removing feature 3 , test MSE: 2424.772348\n",
      "Removing feature 4 , test MSE: 2187.59951938\n",
      "Removing feature 5 , test MSE: 2167.51760615\n",
      "Removing feature 6 , test MSE: 2159.15148251\n",
      "Removing feature 7 , test MSE: 2153.06317113\n",
      "Removing feature 8 , test MSE: 2335.17338461\n",
      "Removing feature 9 , test MSE: 2165.86619219\n"
     ]
    }
   ],
   "source": [
    "for i in range(10):\n",
    "    X_ablation = np.delete(diabetes.data, [i], axis=1)\n",
    "    X_train, X_test, y_train, y_test = train_test_split(X_ablation, diabetes.target, test_size = 0.1, random_state = 10)\n",
    "    clf = LinearRegression()\n",
    "    clf.fit(X_train, y_train)\n",
    "    predictions = clf.predict(X_test)\n",
    "    print('Removing feature', i, ', test MSE:', metrics.mean_squared_error(y_test, predictions))"
   ]
  },
  {
   "cell_type": "markdown",
   "metadata": {},
   "source": [
    "Problem 11:"
   ]
  },
  {
   "cell_type": "markdown",
   "metadata": {},
   "source": [
    "Feature 2 is the most valuable, as indicated by that the model has its test MSE increase the most without the feature included."
   ]
  }
 ],
 "metadata": {
  "kernelspec": {
   "display_name": "Python 3",
   "language": "python",
   "name": "python3"
  },
  "language_info": {
   "codemirror_mode": {
    "name": "ipython",
    "version": 3
   },
   "file_extension": ".py",
   "mimetype": "text/x-python",
   "name": "python",
   "nbconvert_exporter": "python",
   "pygments_lexer": "ipython3",
   "version": "3.6.2"
  }
 },
 "nbformat": 4,
 "nbformat_minor": 2
}
