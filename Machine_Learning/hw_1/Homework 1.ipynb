{
 "cells": [
  {
   "cell_type": "markdown",
   "metadata": {},
   "source": [
    "# Homework 1\n",
    "## Initial Set-Up:"
   ]
  },
  {
   "cell_type": "code",
   "execution_count": 1,
   "metadata": {},
   "outputs": [
    {
     "name": "stdout",
     "output_type": "stream",
     "text": [
      "Wine modified dimensions: (178, 14)\n",
      "Traning data dimensions: (100, 13)\n",
      "Number of rows of training: 100\n",
      "Number of rows of validation: 39\n",
      "Number of rows of testing: 39\n"
     ]
    }
   ],
   "source": [
    "# Read in data manipulation packages\n",
    "import numpy as np\n",
    "import pandas as pd\n",
    "import matplotlib.pyplot as plt\n",
    "\n",
    "# Use for data-preprocessing\n",
    "wine_dat = pd.read_csv('./wine_modified.csv')\n",
    "print('Wine modified dimensions:', wine_dat.shape)\n",
    "wine_dat.head()\n",
    "\n",
    "# Use for remaining sections\n",
    "X_train = pd.read_csv('./wine_train_data.csv')\n",
    "y_train = pd.read_csv('./wine_train_labels.csv')\n",
    "X_valid = pd.read_csv('./wine_val_data.csv')\n",
    "y_valid = pd.read_csv('./wine_val_labels.csv')\n",
    "X_test = pd.read_csv('./wine_test_data.csv')\n",
    "y_test = pd.read_csv('./wine_test_labels.csv')\n",
    "print('Traning data dimensions:',X_train.shape)\n",
    "print('Number of rows of training:', X_train.shape[0])\n",
    "print('Number of rows of validation:', X_valid.shape[0])\n",
    "print('Number of rows of testing:', X_test.shape[0])"
   ]
  },
  {
   "cell_type": "markdown",
   "metadata": {},
   "source": [
    "## Data Preprocessing:\n",
    "\n",
    "Problem 1:"
   ]
  },
  {
   "cell_type": "code",
   "execution_count": 4,
   "metadata": {},
   "outputs": [
    {
     "data": {
      "text/plain": [
       "class                    10\n",
       "Alcohol                   0\n",
       "Malic acid               12\n",
       "Ash                     112\n",
       "Alcalinity of ash        12\n",
       "Magnesium                22\n",
       "Total phenols             0\n",
       "Flavanoids               48\n",
       "Nonflavanoid phenols     14\n",
       "Proanthocyanins          12\n",
       "Color intensity          12\n",
       "Hue                      14\n",
       "OD280/OD315              11\n",
       "Proline                  14\n",
       "dtype: int64"
      ]
     },
     "execution_count": 4,
     "metadata": {},
     "output_type": "execute_result"
    }
   ],
   "source": [
    "# Where are the missing values?\n",
    "wine_dat.isnull().sum()"
   ]
  },
  {
   "cell_type": "code",
   "execution_count": 25,
   "metadata": {},
   "outputs": [
    {
     "name": "stdout",
     "output_type": "stream",
     "text": [
      "New number of rows: 154\n"
     ]
    }
   ],
   "source": [
    "# Remove NaN in Class\n",
    "wine_clean = wine_dat.dropna(subset=['class'])\n",
    "# Remove Rows with > 7 missing\n",
    "wine_clean = wine_clean.dropna(thresh=wine_clean.shape[1]-7)\n",
    "# Report new number of rows\n",
    "print('New number of rows:',wine_clean.shape[0])"
   ]
  },
  {
   "cell_type": "markdown",
   "metadata": {},
   "source": [
    "Problem 2:"
   ]
  },
  {
   "cell_type": "code",
   "execution_count": 26,
   "metadata": {},
   "outputs": [
    {
     "data": {
      "text/plain": [
       "class                   0.000000\n",
       "Alcohol                 0.000000\n",
       "Malic acid              0.000000\n",
       "Ash                     0.616883\n",
       "Alcalinity of ash       0.000000\n",
       "Magnesium               0.058442\n",
       "Total phenols           0.000000\n",
       "Flavanoids              0.227273\n",
       "Nonflavanoid phenols    0.000000\n",
       "Proanthocyanins         0.000000\n",
       "Color intensity         0.000000\n",
       "Hue                     0.000000\n",
       "OD280/OD315             0.000000\n",
       "Proline                 0.000000\n",
       "dtype: float64"
      ]
     },
     "execution_count": 26,
     "metadata": {},
     "output_type": "execute_result"
    }
   ],
   "source": [
    "# Detect breakdown of missing values\n",
    "wine_clean.isnull().sum()/wine_clean.shape[0]"
   ]
  },
  {
   "cell_type": "code",
   "execution_count": 27,
   "metadata": {},
   "outputs": [
    {
     "name": "stdout",
     "output_type": "stream",
     "text": [
      "New data dimensions: (154, 13)\n",
      "Removed Ash feature\n"
     ]
    }
   ],
   "source": [
    "# Remove ash\n",
    "wine_clean.drop('Ash', axis=1, inplace=True)\n",
    "# Print new shape\n",
    "print('New data dimensions:',wine_clean.shape)\n",
    "print('Removed Ash feature')"
   ]
  },
  {
   "cell_type": "code",
   "execution_count": 28,
   "metadata": {},
   "outputs": [
    {
     "name": "stdout",
     "output_type": "stream",
     "text": [
      "['Magnesium', 'Flavanoids'] are features with missing values\n",
      "New standard deviations are:\n"
     ]
    },
    {
     "data": {
      "text/plain": [
       "Magnesium     14.440377\n",
       "Flavanoids     0.873573\n",
       "dtype: float64"
      ]
     },
     "execution_count": 28,
     "metadata": {},
     "output_type": "execute_result"
    }
   ],
   "source": [
    "# Fill in missing data with mean\n",
    "features_detect = wine_clean.columns[pd.isnull(wine_clean).sum() > 0].tolist()\n",
    "print(features_detect,'are features with missing values')\n",
    "wine_clean = wine_clean.fillna(wine_clean.mean())\n",
    "print('New standard deviations are:')\n",
    "wine_clean[features_detect].std()"
   ]
  },
  {
   "cell_type": "markdown",
   "metadata": {},
   "source": [
    "Problem 3:"
   ]
  },
  {
   "cell_type": "code",
   "execution_count": 31,
   "metadata": {},
   "outputs": [
    {
     "name": "stdout",
     "output_type": "stream",
     "text": [
      "Final dimensions are: (148, 13)\n"
     ]
    }
   ],
   "source": [
    "# Remove rows that are within 3 standard deviations (~99.7%) of the data.\n",
    "wine_clean = wine_clean[np.abs(wine_clean.Alcohol - wine_clean.Alcohol.mean()) <= (3*wine_clean.Alcohol.std())]\n",
    "wine_clean = wine_clean[np.abs(wine_clean.Proline - wine_clean.Proline.mean()) <= (3*wine_clean.Proline.std())]\n",
    "print('Final dimensions are:',wine_clean.shape)"
   ]
  },
  {
   "cell_type": "markdown",
   "metadata": {},
   "source": [
    "While there are many different ways to classify an individual data point as an outlier, the most straightforward and indisputable approach is to remove rows where the value is above or below 3 standard deviations of the data. This value would need to be more extreme than 99.7% of the rest of the data. Hence, the data point is pretty safe to be classified as an outlier and removed."
   ]
  },
  {
   "cell_type": "markdown",
   "metadata": {},
   "source": [
    "## Decision Trees:\n",
    "\n",
    "Problem 4:"
   ]
  },
  {
   "cell_type": "code",
   "execution_count": 4,
   "metadata": {},
   "outputs": [
    {
     "name": "stdout",
     "output_type": "stream",
     "text": [
      "For criterion = gini the validation accuracy = 0.948717948718\n",
      "For criterion = entropy the validation accuracy = 0.974358974359\n",
      "\n",
      "The best criterion is entropy with a validation accuracy of 0.974358974359\n",
      "\n",
      "\n",
      "Final accuracy on total training data = 0.820512820513\n"
     ]
    }
   ],
   "source": [
    "from sklearn.tree import DecisionTreeClassifier, export_graphviz\n",
    "import pydotplus\n",
    "from sklearn.neighbors import KNeighborsClassifier\n",
    "from sklearn import preprocessing\n",
    "\n",
    "# For final predictions:\n",
    "X_train_fin = pd.concat([X_train,X_valid],ignore_index=True)\n",
    "y_train_fin = pd.concat([y_train,y_valid],ignore_index=True)\n",
    "\n",
    "best_acc = 0\n",
    "computations = ['gini', 'entropy']\n",
    "\n",
    "for i in computations:\n",
    "    clf = DecisionTreeClassifier(i)\n",
    "    clf.fit(X_train, y_train)\n",
    "    accuracy = np.sum(clf.predict(X_valid)==y_valid['class'].values)*1/len(y_valid['class'].values)\n",
    "    print('For criterion =', i, 'the validation accuracy = ' + str(accuracy))\n",
    "    if (accuracy > best_acc):\n",
    "        best_acc = accuracy\n",
    "        best_computation = i\n",
    "print(\"\")\n",
    "print('The best criterion is', best_computation, 'with a validation accuracy of', best_acc)\n",
    "\n",
    "clf = DecisionTreeClassifier(criterion=best_computation)\n",
    "clf.fit(X_train_fin, y_train_fin)\n",
    "predictions = clf.predict(X_test)\n",
    "fin_accuracy = np.sum(predictions==y_test['class'].values)*1/len(y_test['class'].values)\n",
    "print('\\n')\n",
    "print('Final accuracy on total training data = ' + str(fin_accuracy))"
   ]
  },
  {
   "cell_type": "markdown",
   "metadata": {},
   "source": [
    "Problem 5:"
   ]
  },
  {
   "cell_type": "code",
   "execution_count": 13,
   "metadata": {},
   "outputs": [
    {
     "name": "stdout",
     "output_type": "stream",
     "text": [
      "For min sample = 2 the validation accuracy = 0.948717948718\n",
      "For min sample = 5 the validation accuracy = 0.948717948718\n",
      "For min sample = 10 the validation accuracy = 0.923076923077\n",
      "For min sample = 20 the validation accuracy = 0.948717948718\n",
      "\n",
      "The best sample is 2 with a validation accuracy of 0.948717948718\n",
      "\n",
      "\n",
      "Final accuracy = 0.820512820513\n"
     ]
    }
   ],
   "source": [
    "best_acc = 0\n",
    "min_sample = [2,5,10,20]\n",
    "\n",
    "for i in min_sample:\n",
    "    clf = DecisionTreeClassifier(best_computation,min_samples_split=i)\n",
    "    clf.fit(X_train, y_train)\n",
    "    accuracy = np.sum(clf.predict(X_valid)==y_valid['class'].values)*1/len(y_valid['class'].values)\n",
    "    print('For min sample =', i, 'the validation accuracy = ' + str(accuracy))\n",
    "    if (accuracy > best_acc):\n",
    "        best_acc = accuracy\n",
    "        best_sample = i\n",
    "print(\"\")\n",
    "print('The best sample is', best_sample, 'with a validation accuracy of', best_acc)\n",
    "\n",
    "clf = DecisionTreeClassifier(criterion=best_computation,min_samples_split = best_sample)\n",
    "clf.fit(X_train_fin, y_train_fin)\n",
    "predictions = clf.predict(X_test)\n",
    "fin_accuracy = np.sum(predictions==y_test['class'].values)*1/len(y_test['class'].values)\n",
    "print('\\n')\n",
    "print('Final accuracy = ' + str(fin_accuracy))"
   ]
  },
  {
   "cell_type": "markdown",
   "metadata": {},
   "source": [
    "Problem 6:"
   ]
  },
  {
   "cell_type": "code",
   "execution_count": 15,
   "metadata": {},
   "outputs": [
    {
     "name": "stdout",
     "output_type": "stream",
     "text": [
      "For training data sample size = 20 the validation accuracy = 0.641025641026\n",
      "For training data sample size = 40 the validation accuracy = 0.846153846154\n",
      "For training data sample size = 60 the validation accuracy = 0.871794871795\n",
      "For training data sample size = 80 the validation accuracy = 0.871794871795\n",
      "For training data sample size = 100 the validation accuracy = 0.948717948718\n"
     ]
    }
   ],
   "source": [
    "sample_size = [20,40,60,80,100]\n",
    "acc_list = []\n",
    "\n",
    "for i in sample_size:\n",
    "    clf = DecisionTreeClassifier(best_computation,min_samples_split=best_sample)\n",
    "    clf.fit(X_train[:i], y_train[:i])\n",
    "    accuracy = np.sum(clf.predict(X_valid)==y_valid['class'].values)*1/len(y_valid['class'].values)\n",
    "    print('For training data sample size =', i, 'the validation accuracy = ' + str(accuracy))\n",
    "    acc_list.append(accuracy)"
   ]
  },
  {
   "cell_type": "code",
   "execution_count": 21,
   "metadata": {},
   "outputs": [
    {
     "data": {
      "image/png": "[encoded data removed]",
      "text/plain": [
       "<matplotlib.figure.Figure at 0x10f0c2e10>"
      ]
     },
     "metadata": {},
     "output_type": "display_data"
    }
   ],
   "source": [
    "# Generate Line Plot\n",
    "plt.plot(sample_size,acc_list)\n",
    "\n",
    "# Label the axes\n",
    "plt.xlabel('Sample Size')\n",
    "plt.ylabel('Accuracy')\n",
    "\n",
    "#Figure Title\n",
    "plt.title('More Training Data Achieves Greater Accuracy')\n",
    "\n",
    "plt.show()"
   ]
  },
  {
   "cell_type": "markdown",
   "metadata": {},
   "source": [
    "## KNN\n",
    "\n",
    "Problem 7:"
   ]
  },
  {
   "cell_type": "code",
   "execution_count": 22,
   "metadata": {
    "collapsed": true
   },
   "outputs": [],
   "source": [
    "# Use Standard Scaler from Sklearn to normalize data in full training data:\n",
    "normalize = preprocessing.StandardScaler().fit(X_train_fin)\n",
    "X_train_fin_norm = normalize.transform(X_train_fin)\n",
    "\n",
    "# Apply normalizing of aggregate training set to other data-sets:\n",
    "X_train_norm = normalize.transform(X_train)\n",
    "X_valid_norm = normalize.transform(X_valid)\n",
    "X_test_norm = normalize.transform(X_test)"
   ]
  },
  {
   "cell_type": "code",
   "execution_count": 28,
   "metadata": {},
   "outputs": [
    {
     "name": "stdout",
     "output_type": "stream",
     "text": [
      "Test accuracy with k = 3 is 0.871794871795\n"
     ]
    }
   ],
   "source": [
    "# Build KNN classifier\n",
    "clf = KNeighborsClassifier(n_neighbors=3,metric = 'euclidean')\n",
    "clf.fit(X_train_fin_norm, y_train_fin.values.ravel())\n",
    "predictions = clf.predict(X_test_norm)\n",
    "accuracy = np.sum(predictions == y_test['class'].values)*1.0/len(y_test['class'].values)\n",
    "print('Test accuracy with k = 3 is', accuracy)"
   ]
  },
  {
   "cell_type": "markdown",
   "metadata": {},
   "source": [
    "Problem 8:"
   ]
  },
  {
   "cell_type": "code",
   "execution_count": 31,
   "metadata": {},
   "outputs": [
    {
     "name": "stdout",
     "output_type": "stream",
     "text": [
      "For distance metric = euclidean the validation accuracy = 0.923076923077\n",
      "For distance metric = manhattan the validation accuracy = 0.948717948718\n",
      "For distance metric = chebyshev the validation accuracy = 0.923076923077\n",
      "\n",
      "The best distance metric is manhattan with a validation accuracy of 0.948717948718\n",
      "\n",
      "\n",
      "Final accuracy = 0.974358974359\n"
     ]
    },
    {
     "name": "stderr",
     "output_type": "stream",
     "text": [
      "/Users/kkannapp/anaconda/lib/python3.6/site-packages/ipykernel_launcher.py:6: DataConversionWarning: A column-vector y was passed when a 1d array was expected. Please change the shape of y to (n_samples, ), for example using ravel().\n",
      "  \n"
     ]
    }
   ],
   "source": [
    "best_acc = 0\n",
    "dist_metric = ['euclidean','manhattan','chebyshev']\n",
    "\n",
    "for i in dist_metric:\n",
    "    clf = KNeighborsClassifier(n_neighbors=3,metric = i)\n",
    "    clf.fit(X_train_norm, y_train)\n",
    "    accuracy = np.sum(clf.predict(X_valid_norm)==y_valid['class'].values)*1/len(y_valid['class'].values)\n",
    "    print('For distance metric =', i, 'the validation accuracy = ' + str(accuracy))\n",
    "    if (accuracy > best_acc):\n",
    "        best_acc = accuracy\n",
    "        best_dist = i\n",
    "print(\"\")\n",
    "print('The best distance metric is', best_dist, 'with a validation accuracy of', best_acc)\n",
    "\n",
    "clf = KNeighborsClassifier(n_neighbors=3,metric = best_dist)\n",
    "clf.fit(X_train_fin_norm, y_train_fin.values.ravel())\n",
    "predictions = clf.predict(X_test_norm)\n",
    "fin_accuracy = np.sum(predictions==y_test['class'].values)*1/len(y_test['class'].values)\n",
    "print('\\n')\n",
    "print('Final accuracy = ' + str(fin_accuracy))"
   ]
  },
  {
   "cell_type": "markdown",
   "metadata": {},
   "source": [
    "Problem 9:"
   ]
  },
  {
   "cell_type": "code",
   "execution_count": 32,
   "metadata": {},
   "outputs": [
    {
     "name": "stdout",
     "output_type": "stream",
     "text": [
      "For k = 1 the validation accuracy = 0.948717948718\n",
      "For k = 3 the validation accuracy = 0.923076923077\n",
      "For k = 5 the validation accuracy = 0.948717948718\n",
      "For k = 7 the validation accuracy = 0.974358974359\n",
      "For k = 9 the validation accuracy = 0.948717948718\n",
      "\n",
      "The best k-value is 7 with a validation accuracy of 0.974358974359\n",
      "\n",
      "\n",
      "Final accuracy = 0.923076923077\n"
     ]
    },
    {
     "name": "stderr",
     "output_type": "stream",
     "text": [
      "/Users/kkannapp/anaconda/lib/python3.6/site-packages/ipykernel_launcher.py:7: DataConversionWarning: A column-vector y was passed when a 1d array was expected. Please change the shape of y to (n_samples, ), for example using ravel().\n",
      "  import sys\n"
     ]
    }
   ],
   "source": [
    "k_list = [1,3,5,7,9]\n",
    "acc_list = []\n",
    "best_acc = 0\n",
    "\n",
    "for i in k_list:\n",
    "    clf = KNeighborsClassifier(n_neighbors=i,metric = 'euclidean')\n",
    "    clf.fit(X_train_norm, y_train)\n",
    "    accuracy = np.sum(clf.predict(X_valid_norm)==y_valid['class'].values)*1/len(y_valid['class'].values)\n",
    "    print('For k =', i, 'the validation accuracy = ' + str(accuracy))\n",
    "    acc_list.append(accuracy)\n",
    "    if (accuracy > best_acc):\n",
    "        best_acc = accuracy\n",
    "        best_k = i\n",
    "print(\"\")\n",
    "print('The best k-value is', best_k, 'with a validation accuracy of', best_acc)\n",
    "\n",
    "clf = KNeighborsClassifier(n_neighbors=best_k,metric = 'euclidean')\n",
    "clf.fit(X_train_fin_norm, y_train_fin.values.ravel())\n",
    "predictions = clf.predict(X_test_norm)\n",
    "fin_accuracy = np.sum(predictions==y_test['class'].values)*1/len(y_test['class'].values)\n",
    "print('\\n')\n",
    "print('Final accuracy = ' + str(fin_accuracy))"
   ]
  },
  {
   "cell_type": "code",
   "execution_count": 34,
   "metadata": {},
   "outputs": [
    {
     "data": {
      "image/png": "[encoded data removed]",
      "text/plain": [
       "<matplotlib.figure.Figure at 0x1123bec88>"
      ]
     },
     "metadata": {},
     "output_type": "display_data"
    }
   ],
   "source": [
    "# Generate Line Plot\n",
    "plt.plot(k_list,acc_list)\n",
    "\n",
    "# Label the axes\n",
    "plt.xlabel('Value of K')\n",
    "plt.ylabel('Accuracy')\n",
    "\n",
    "#Figure Title\n",
    "plt.title('Value of K has Large Impact on Performance')\n",
    "\n",
    "plt.show()"
   ]
  },
  {
   "cell_type": "markdown",
   "metadata": {},
   "source": [
    "Problem 10:"
   ]
  },
  {
   "cell_type": "code",
   "execution_count": 36,
   "metadata": {},
   "outputs": [
    {
     "name": "stdout",
     "output_type": "stream",
     "text": [
      "For sample size = 20 the validation accuracy = 0.948717948718\n",
      "For sample size = 40 the validation accuracy = 1.0\n",
      "For sample size = 60 the validation accuracy = 1.0\n",
      "For sample size = 80 the validation accuracy = 1.0\n",
      "For sample size = 100 the validation accuracy = 0.923076923077\n"
     ]
    },
    {
     "name": "stderr",
     "output_type": "stream",
     "text": [
      "/Users/kkannapp/anaconda/lib/python3.6/site-packages/ipykernel_launcher.py:6: DataConversionWarning: A column-vector y was passed when a 1d array was expected. Please change the shape of y to (n_samples, ), for example using ravel().\n",
      "  \n"
     ]
    }
   ],
   "source": [
    "sample_size = [20,40,60,80,100]\n",
    "acc_list = []\n",
    "\n",
    "for i in sample_size:\n",
    "    clf = KNeighborsClassifier(n_neighbors=3,metric = 'euclidean')\n",
    "    clf.fit(X_train_norm[:i], y_train[:i])\n",
    "    accuracy = np.sum(clf.predict(X_valid_norm)==y_valid['class'].values)*1/len(y_valid['class'].values)\n",
    "    print('For sample size =', i, 'the validation accuracy = ' + str(accuracy))\n",
    "    acc_list.append(accuracy)"
   ]
  },
  {
   "cell_type": "code",
   "execution_count": 37,
   "metadata": {},
   "outputs": [
    {
     "data": {
      "image/png": "[encoded data removed]",
      "text/plain": [
       "<matplotlib.figure.Figure at 0x11238d668>"
      ]
     },
     "metadata": {},
     "output_type": "display_data"
    }
   ],
   "source": [
    "# Generate Line Plot\n",
    "plt.plot(sample_size,acc_list)\n",
    "\n",
    "# Label the axes\n",
    "plt.xlabel('Sample Size')\n",
    "plt.ylabel('Accuracy')\n",
    "\n",
    "#Figure Title\n",
    "plt.title('Shuffling Data Important, Predictions could be Unrealistic')\n",
    "\n",
    "plt.show()"
   ]
  }
 ],
 "metadata": {
  "kernelspec": {
   "display_name": "Python 3",
   "language": "python",
   "name": "python3"
  },
  "language_info": {
   "codemirror_mode": {
    "name": "ipython",
    "version": 3
   },
   "file_extension": ".py",
   "mimetype": "text/x-python",
   "name": "python",
   "nbconvert_exporter": "python",
   "pygments_lexer": "ipython3",
   "version": "3.6.2"
  }
 },
 "nbformat": 4,
 "nbformat_minor": 2
}
